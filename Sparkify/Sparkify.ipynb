{
 "cells": [
  {
   "cell_type": "markdown",
   "metadata": {},
   "source": [
    "# Sparkify Project Workspace\n",
    "This workspace contains a tiny subset (128MB) of the full dataset available (12GB). Feel free to use this workspace to build your project, or to explore a smaller subset with Spark before deploying your cluster on the cloud. Instructions for setting up your Spark cluster is included in the last lesson of the Extracurricular Spark Course content.\n",
    "\n",
    "You can follow the steps below to guide your data analysis and model building portion of this project."
   ]
  },
  {
   "cell_type": "markdown",
   "metadata": {},
   "source": [
    "# Project Definition\n",
    "\n",
    "For many companies that provide continuous services to users, one of the main goals aside from acquiring new customers is to retain the customers they currently have. A user discontinuing a service is referred to as \"user churn\". These companies aim to reduce user churn through whatever menas they see fit.\n",
    "\n",
    "In the age of data, however, companies are now equipped with a new process that allows them to use existing customer data to predict when a user is likely to churn. For this project in particular, we will be working with data for an imaginary music streaming service \"Sparkify\". The aim is to use the data (which is a 128 MB subset of a larger 12 GB dataset) to predict user churn by creating an ETL pipeline to process the data and feed it into a model that, hopefully, can accurately predict churn."
   ]
  },
  {
   "cell_type": "code",
   "execution_count": 1,
   "metadata": {},
   "outputs": [],
   "source": [
    "# import libraries\n",
    "from pyspark.sql import SparkSession"
   ]
  },
  {
   "cell_type": "code",
   "execution_count": 2,
   "metadata": {},
   "outputs": [],
   "source": [
    "# import libraries\n",
    "from pyspark.sql.functions import udf\n",
    "from pyspark.sql.types import StringType\n",
    "from pyspark.sql.types import IntegerType\n",
    "from pyspark.sql.functions import desc\n",
    "from pyspark.sql.functions import asc\n",
    "from pyspark.sql.functions import sum as Fsum\n",
    "\n",
    "import datetime\n",
    "\n",
    "from pyspark.sql import Window\n",
    "import pandas as pd\n",
    "import numpy as np\n",
    "from matplotlib import pyplot as plt\n",
    "%matplotlib inline\n",
    "\n",
    "import re\n",
    "from pyspark.sql import functions as sF\n",
    "from pyspark.sql import types as sT\n",
    "\n",
    "from functools import reduce"
   ]
  },
  {
   "cell_type": "code",
   "execution_count": 3,
   "metadata": {},
   "outputs": [],
   "source": [
    "from pyspark.ml.feature import Normalizer, StandardScaler, VectorAssembler\n",
    "from pyspark.ml.classification import DecisionTreeClassifier, GBTClassifier, LogisticRegression, MultilayerPerceptronClassifier, NaiveBayes, RandomForestClassifier\n",
    "from pyspark.ml.regression import LinearRegression\n",
    "from pyspark.ml.evaluation import MulticlassClassificationEvaluator\n",
    "from pyspark.ml.tuning import CrossValidator, ParamGridBuilder"
   ]
  },
  {
   "cell_type": "code",
   "execution_count": 4,
   "metadata": {},
   "outputs": [],
   "source": [
    "from pyspark.ml.tuning import CrossValidatorModel as mlm"
   ]
  },
  {
   "cell_type": "code",
   "execution_count": 5,
   "metadata": {},
   "outputs": [],
   "source": [
    "# create a Spark session\n",
    "spark = SparkSession.builder.appName(\"Sparkify\").getOrCreate()"
   ]
  },
  {
   "cell_type": "markdown",
   "metadata": {},
   "source": [
    "# Load and Clean Dataset\n",
    "In this workspace, the mini-dataset file is `mini_sparkify_event_data.json`. Load and clean the dataset, checking for invalid or missing data - for example, records without userids or sessionids. "
   ]
  },
  {
   "cell_type": "code",
   "execution_count": 6,
   "metadata": {},
   "outputs": [
    {
     "name": "stdout",
     "output_type": "stream",
     "text": [
      "root\n",
      " |-- artist: string (nullable = true)\n",
      " |-- auth: string (nullable = true)\n",
      " |-- firstName: string (nullable = true)\n",
      " |-- gender: string (nullable = true)\n",
      " |-- itemInSession: long (nullable = true)\n",
      " |-- lastName: string (nullable = true)\n",
      " |-- length: double (nullable = true)\n",
      " |-- level: string (nullable = true)\n",
      " |-- location: string (nullable = true)\n",
      " |-- method: string (nullable = true)\n",
      " |-- page: string (nullable = true)\n",
      " |-- registration: long (nullable = true)\n",
      " |-- sessionId: long (nullable = true)\n",
      " |-- song: string (nullable = true)\n",
      " |-- status: long (nullable = true)\n",
      " |-- ts: long (nullable = true)\n",
      " |-- userAgent: string (nullable = true)\n",
      " |-- userId: string (nullable = true)\n",
      "\n"
     ]
    }
   ],
   "source": [
    "# Load data into a Spark DataFrame\n",
    "df = spark.read.json('mini_sparkify_event_data.json')\n",
    "df.printSchema()"
   ]
  },
  {
   "cell_type": "code",
   "execution_count": 7,
   "metadata": {},
   "outputs": [
    {
     "data": {
      "text/html": [
       "<div>\n",
       "<style scoped>\n",
       "    .dataframe tbody tr th:only-of-type {\n",
       "        vertical-align: middle;\n",
       "    }\n",
       "\n",
       "    .dataframe tbody tr th {\n",
       "        vertical-align: top;\n",
       "    }\n",
       "\n",
       "    .dataframe thead th {\n",
       "        text-align: right;\n",
       "    }\n",
       "</style>\n",
       "<table border=\"1\" class=\"dataframe\">\n",
       "  <thead>\n",
       "    <tr style=\"text-align: right;\">\n",
       "      <th></th>\n",
       "      <th>artist</th>\n",
       "      <th>auth</th>\n",
       "      <th>firstName</th>\n",
       "      <th>gender</th>\n",
       "      <th>itemInSession</th>\n",
       "      <th>lastName</th>\n",
       "      <th>length</th>\n",
       "      <th>level</th>\n",
       "      <th>location</th>\n",
       "      <th>method</th>\n",
       "      <th>page</th>\n",
       "      <th>registration</th>\n",
       "      <th>sessionId</th>\n",
       "      <th>song</th>\n",
       "      <th>status</th>\n",
       "      <th>ts</th>\n",
       "      <th>userAgent</th>\n",
       "      <th>userId</th>\n",
       "    </tr>\n",
       "  </thead>\n",
       "  <tbody>\n",
       "    <tr>\n",
       "      <th>0</th>\n",
       "      <td>Martha Tilston</td>\n",
       "      <td>Logged In</td>\n",
       "      <td>Colin</td>\n",
       "      <td>M</td>\n",
       "      <td>50</td>\n",
       "      <td>Freeman</td>\n",
       "      <td>277.89016</td>\n",
       "      <td>paid</td>\n",
       "      <td>Bakersfield, CA</td>\n",
       "      <td>PUT</td>\n",
       "      <td>NextSong</td>\n",
       "      <td>1.538173e+12</td>\n",
       "      <td>29</td>\n",
       "      <td>Rockpools</td>\n",
       "      <td>200</td>\n",
       "      <td>1538352117000</td>\n",
       "      <td>Mozilla/5.0 (Windows NT 6.1; WOW64; rv:31.0) G...</td>\n",
       "      <td>30</td>\n",
       "    </tr>\n",
       "    <tr>\n",
       "      <th>1</th>\n",
       "      <td>Five Iron Frenzy</td>\n",
       "      <td>Logged In</td>\n",
       "      <td>Micah</td>\n",
       "      <td>M</td>\n",
       "      <td>79</td>\n",
       "      <td>Long</td>\n",
       "      <td>236.09424</td>\n",
       "      <td>free</td>\n",
       "      <td>Boston-Cambridge-Newton, MA-NH</td>\n",
       "      <td>PUT</td>\n",
       "      <td>NextSong</td>\n",
       "      <td>1.538332e+12</td>\n",
       "      <td>8</td>\n",
       "      <td>Canada</td>\n",
       "      <td>200</td>\n",
       "      <td>1538352180000</td>\n",
       "      <td>\"Mozilla/5.0 (Windows NT 6.1; WOW64) AppleWebK...</td>\n",
       "      <td>9</td>\n",
       "    </tr>\n",
       "    <tr>\n",
       "      <th>2</th>\n",
       "      <td>Adam Lambert</td>\n",
       "      <td>Logged In</td>\n",
       "      <td>Colin</td>\n",
       "      <td>M</td>\n",
       "      <td>51</td>\n",
       "      <td>Freeman</td>\n",
       "      <td>282.82730</td>\n",
       "      <td>paid</td>\n",
       "      <td>Bakersfield, CA</td>\n",
       "      <td>PUT</td>\n",
       "      <td>NextSong</td>\n",
       "      <td>1.538173e+12</td>\n",
       "      <td>29</td>\n",
       "      <td>Time For Miracles</td>\n",
       "      <td>200</td>\n",
       "      <td>1538352394000</td>\n",
       "      <td>Mozilla/5.0 (Windows NT 6.1; WOW64; rv:31.0) G...</td>\n",
       "      <td>30</td>\n",
       "    </tr>\n",
       "    <tr>\n",
       "      <th>3</th>\n",
       "      <td>Enigma</td>\n",
       "      <td>Logged In</td>\n",
       "      <td>Micah</td>\n",
       "      <td>M</td>\n",
       "      <td>80</td>\n",
       "      <td>Long</td>\n",
       "      <td>262.71302</td>\n",
       "      <td>free</td>\n",
       "      <td>Boston-Cambridge-Newton, MA-NH</td>\n",
       "      <td>PUT</td>\n",
       "      <td>NextSong</td>\n",
       "      <td>1.538332e+12</td>\n",
       "      <td>8</td>\n",
       "      <td>Knocking On Forbidden Doors</td>\n",
       "      <td>200</td>\n",
       "      <td>1538352416000</td>\n",
       "      <td>\"Mozilla/5.0 (Windows NT 6.1; WOW64) AppleWebK...</td>\n",
       "      <td>9</td>\n",
       "    </tr>\n",
       "    <tr>\n",
       "      <th>4</th>\n",
       "      <td>Daft Punk</td>\n",
       "      <td>Logged In</td>\n",
       "      <td>Colin</td>\n",
       "      <td>M</td>\n",
       "      <td>52</td>\n",
       "      <td>Freeman</td>\n",
       "      <td>223.60771</td>\n",
       "      <td>paid</td>\n",
       "      <td>Bakersfield, CA</td>\n",
       "      <td>PUT</td>\n",
       "      <td>NextSong</td>\n",
       "      <td>1.538173e+12</td>\n",
       "      <td>29</td>\n",
       "      <td>Harder Better Faster Stronger</td>\n",
       "      <td>200</td>\n",
       "      <td>1538352676000</td>\n",
       "      <td>Mozilla/5.0 (Windows NT 6.1; WOW64; rv:31.0) G...</td>\n",
       "      <td>30</td>\n",
       "    </tr>\n",
       "  </tbody>\n",
       "</table>\n",
       "</div>"
      ],
      "text/plain": [
       "             artist       auth firstName gender  itemInSession lastName  \\\n",
       "0    Martha Tilston  Logged In     Colin      M             50  Freeman   \n",
       "1  Five Iron Frenzy  Logged In     Micah      M             79     Long   \n",
       "2      Adam Lambert  Logged In     Colin      M             51  Freeman   \n",
       "3            Enigma  Logged In     Micah      M             80     Long   \n",
       "4         Daft Punk  Logged In     Colin      M             52  Freeman   \n",
       "\n",
       "      length level                        location method      page  \\\n",
       "0  277.89016  paid                 Bakersfield, CA    PUT  NextSong   \n",
       "1  236.09424  free  Boston-Cambridge-Newton, MA-NH    PUT  NextSong   \n",
       "2  282.82730  paid                 Bakersfield, CA    PUT  NextSong   \n",
       "3  262.71302  free  Boston-Cambridge-Newton, MA-NH    PUT  NextSong   \n",
       "4  223.60771  paid                 Bakersfield, CA    PUT  NextSong   \n",
       "\n",
       "   registration  sessionId                           song  status  \\\n",
       "0  1.538173e+12         29                      Rockpools     200   \n",
       "1  1.538332e+12          8                         Canada     200   \n",
       "2  1.538173e+12         29              Time For Miracles     200   \n",
       "3  1.538332e+12          8    Knocking On Forbidden Doors     200   \n",
       "4  1.538173e+12         29  Harder Better Faster Stronger     200   \n",
       "\n",
       "              ts                                          userAgent userId  \n",
       "0  1538352117000  Mozilla/5.0 (Windows NT 6.1; WOW64; rv:31.0) G...     30  \n",
       "1  1538352180000  \"Mozilla/5.0 (Windows NT 6.1; WOW64) AppleWebK...      9  \n",
       "2  1538352394000  Mozilla/5.0 (Windows NT 6.1; WOW64; rv:31.0) G...     30  \n",
       "3  1538352416000  \"Mozilla/5.0 (Windows NT 6.1; WOW64) AppleWebK...      9  \n",
       "4  1538352676000  Mozilla/5.0 (Windows NT 6.1; WOW64; rv:31.0) G...     30  "
      ]
     },
     "execution_count": 7,
     "metadata": {},
     "output_type": "execute_result"
    }
   ],
   "source": [
    "pandas_df = df.toPandas()\n",
    "pandas_df.head()"
   ]
  },
  {
   "cell_type": "code",
   "execution_count": 8,
   "metadata": {},
   "outputs": [
    {
     "name": "stdout",
     "output_type": "stream",
     "text": [
      "<class 'pandas.core.frame.DataFrame'>\n",
      "RangeIndex: 286500 entries, 0 to 286499\n",
      "Data columns (total 18 columns):\n",
      "artist           228108 non-null object\n",
      "auth             286500 non-null object\n",
      "firstName        278154 non-null object\n",
      "gender           278154 non-null object\n",
      "itemInSession    286500 non-null int64\n",
      "lastName         278154 non-null object\n",
      "length           228108 non-null float64\n",
      "level            286500 non-null object\n",
      "location         278154 non-null object\n",
      "method           286500 non-null object\n",
      "page             286500 non-null object\n",
      "registration     278154 non-null float64\n",
      "sessionId        286500 non-null int64\n",
      "song             228108 non-null object\n",
      "status           286500 non-null int64\n",
      "ts               286500 non-null int64\n",
      "userAgent        278154 non-null object\n",
      "userId           286500 non-null object\n",
      "dtypes: float64(2), int64(4), object(12)\n",
      "memory usage: 39.3+ MB\n"
     ]
    }
   ],
   "source": [
    "pandas_df.info()"
   ]
  },
  {
   "cell_type": "markdown",
   "metadata": {},
   "source": [
    "We can see from the above info that userID and sessionId have no null values, but it's possible that we have \"blank\" values, so we should check for those too."
   ]
  },
  {
   "cell_type": "code",
   "execution_count": 9,
   "metadata": {},
   "outputs": [
    {
     "data": {
      "text/plain": [
       "8346"
      ]
     },
     "execution_count": 9,
     "metadata": {},
     "output_type": "execute_result"
    }
   ],
   "source": [
    "pandas_df[pandas_df['userId'] == '']['userId'].count()"
   ]
  },
  {
   "cell_type": "markdown",
   "metadata": {},
   "source": [
    "The (arguably) cleanest way is to filter these out is to do it before we convert the loaded data into a pandas DataFrame."
   ]
  },
  {
   "cell_type": "code",
   "execution_count": 10,
   "metadata": {},
   "outputs": [
    {
     "data": {
      "text/plain": [
       "0"
      ]
     },
     "execution_count": 10,
     "metadata": {},
     "output_type": "execute_result"
    }
   ],
   "source": [
    "# This comparison gave an error while in pandas, so we do it the spark DataFrame\n",
    "df.filter(df.sessionId == '').count()"
   ]
  },
  {
   "cell_type": "code",
   "execution_count": 11,
   "metadata": {},
   "outputs": [
    {
     "data": {
      "text/plain": [
       "0"
      ]
     },
     "execution_count": 11,
     "metadata": {},
     "output_type": "execute_result"
    }
   ],
   "source": [
    "# Filter our DataFrame in exclude blank userId values\n",
    "df = df.filter(df.userId != '')\n",
    "\n",
    "# checking to see that we no longer have blank userId values\n",
    "df.filter(df.userId == '').count()"
   ]
  },
  {
   "cell_type": "code",
   "execution_count": 12,
   "metadata": {},
   "outputs": [],
   "source": [
    "# now we re-assign our pandas DataFrame variable with the filtered data\n",
    "\n",
    "pandas_df = df.toPandas()"
   ]
  },
  {
   "cell_type": "code",
   "execution_count": 13,
   "metadata": {},
   "outputs": [
    {
     "data": {
      "text/plain": [
       "0"
      ]
     },
     "execution_count": 13,
     "metadata": {},
     "output_type": "execute_result"
    }
   ],
   "source": [
    "# performing the same check to see if it's consistent\n",
    "pandas_df[pandas_df['userId'] == '']['userId'].count()"
   ]
  },
  {
   "cell_type": "markdown",
   "metadata": {},
   "source": [
    "# Exploratory Data Analysis\n",
    "When you're working with the full dataset, perform EDA by loading a small subset of the data and doing basic manipulations within Spark. In this workspace, you are already provided a small subset of data you can explore."
   ]
  },
  {
   "cell_type": "code",
   "execution_count": 14,
   "metadata": {},
   "outputs": [
    {
     "data": {
      "text/plain": [
       "['Unique userId: 225', 'Unique sessionId: 2312']"
      ]
     },
     "execution_count": 14,
     "metadata": {},
     "output_type": "execute_result"
    }
   ],
   "source": [
    "# We can see how many unique users and sessions we're working with\n",
    "[\"Unique {}: {}\".format(col, df.select(col).dropDuplicates().count()) for col in ('userId', 'sessionId')]"
   ]
  },
  {
   "cell_type": "markdown",
   "metadata": {},
   "source": [
    "### Define Churn\n",
    "\n",
    "Once you've done some preliminary analysis, create a column `Churn` to use as the label for your model. I suggest using the `Cancellation Confirmation` events to define your churn, which happen for both paid and free users. As a bonus task, you can also look into the `Downgrade` events."
   ]
  },
  {
   "cell_type": "markdown",
   "metadata": {},
   "source": [
    "We define churn as a label for users who cancel their account/subscription for this case. We can create a column for it in our data."
   ]
  },
  {
   "cell_type": "code",
   "execution_count": 15,
   "metadata": {},
   "outputs": [],
   "source": [
    "cancel_flag = udf(lambda x: 1 if x == \"Cancellation Confirmation\" else 0, IntegerType())\n",
    "\n",
    "# apply churn column to data\n",
    "df = df.withColumn(\"churn\", cancel_flag(\"page\"))\n",
    "\n",
    "# Define window bounds\n",
    "window_value = Window.partitionBy(\"userId\").rangeBetween(Window.unboundedPreceding, Window.unboundedFollowing)\n",
    "\n",
    "# Apply window\n",
    "df = df.withColumn(\"churn\", Fsum(\"churn\").over(window_value))"
   ]
  },
  {
   "cell_type": "code",
   "execution_count": 16,
   "metadata": {},
   "outputs": [],
   "source": [
    "# convert df to pandas for a nicer view of data head\n",
    "pandas_df = df.toPandas()"
   ]
  },
  {
   "cell_type": "code",
   "execution_count": 17,
   "metadata": {},
   "outputs": [
    {
     "data": {
      "text/html": [
       "<div>\n",
       "<style scoped>\n",
       "    .dataframe tbody tr th:only-of-type {\n",
       "        vertical-align: middle;\n",
       "    }\n",
       "\n",
       "    .dataframe tbody tr th {\n",
       "        vertical-align: top;\n",
       "    }\n",
       "\n",
       "    .dataframe thead th {\n",
       "        text-align: right;\n",
       "    }\n",
       "</style>\n",
       "<table border=\"1\" class=\"dataframe\">\n",
       "  <thead>\n",
       "    <tr style=\"text-align: right;\">\n",
       "      <th></th>\n",
       "      <th>artist</th>\n",
       "      <th>auth</th>\n",
       "      <th>firstName</th>\n",
       "      <th>gender</th>\n",
       "      <th>itemInSession</th>\n",
       "      <th>lastName</th>\n",
       "      <th>length</th>\n",
       "      <th>level</th>\n",
       "      <th>location</th>\n",
       "      <th>method</th>\n",
       "      <th>page</th>\n",
       "      <th>registration</th>\n",
       "      <th>sessionId</th>\n",
       "      <th>song</th>\n",
       "      <th>status</th>\n",
       "      <th>ts</th>\n",
       "      <th>userAgent</th>\n",
       "      <th>userId</th>\n",
       "      <th>churn</th>\n",
       "    </tr>\n",
       "  </thead>\n",
       "  <tbody>\n",
       "    <tr>\n",
       "      <th>0</th>\n",
       "      <td>Sleeping With Sirens</td>\n",
       "      <td>Logged In</td>\n",
       "      <td>Darianna</td>\n",
       "      <td>F</td>\n",
       "      <td>0</td>\n",
       "      <td>Carpenter</td>\n",
       "      <td>202.97098</td>\n",
       "      <td>free</td>\n",
       "      <td>Bridgeport-Stamford-Norwalk, CT</td>\n",
       "      <td>PUT</td>\n",
       "      <td>NextSong</td>\n",
       "      <td>1538016340000</td>\n",
       "      <td>31</td>\n",
       "      <td>Captain Tyin Knots VS Mr Walkway (No Way)</td>\n",
       "      <td>200</td>\n",
       "      <td>1539003534000</td>\n",
       "      <td>\"Mozilla/5.0 (iPhone; CPU iPhone OS 7_1_2 like...</td>\n",
       "      <td>100010</td>\n",
       "      <td>0</td>\n",
       "    </tr>\n",
       "    <tr>\n",
       "      <th>1</th>\n",
       "      <td>Francesca Battistelli</td>\n",
       "      <td>Logged In</td>\n",
       "      <td>Darianna</td>\n",
       "      <td>F</td>\n",
       "      <td>1</td>\n",
       "      <td>Carpenter</td>\n",
       "      <td>196.54485</td>\n",
       "      <td>free</td>\n",
       "      <td>Bridgeport-Stamford-Norwalk, CT</td>\n",
       "      <td>PUT</td>\n",
       "      <td>NextSong</td>\n",
       "      <td>1538016340000</td>\n",
       "      <td>31</td>\n",
       "      <td>Beautiful_ Beautiful (Album)</td>\n",
       "      <td>200</td>\n",
       "      <td>1539003736000</td>\n",
       "      <td>\"Mozilla/5.0 (iPhone; CPU iPhone OS 7_1_2 like...</td>\n",
       "      <td>100010</td>\n",
       "      <td>0</td>\n",
       "    </tr>\n",
       "    <tr>\n",
       "      <th>2</th>\n",
       "      <td>Brutha</td>\n",
       "      <td>Logged In</td>\n",
       "      <td>Darianna</td>\n",
       "      <td>F</td>\n",
       "      <td>2</td>\n",
       "      <td>Carpenter</td>\n",
       "      <td>263.13098</td>\n",
       "      <td>free</td>\n",
       "      <td>Bridgeport-Stamford-Norwalk, CT</td>\n",
       "      <td>PUT</td>\n",
       "      <td>NextSong</td>\n",
       "      <td>1538016340000</td>\n",
       "      <td>31</td>\n",
       "      <td>She's Gone</td>\n",
       "      <td>200</td>\n",
       "      <td>1539003932000</td>\n",
       "      <td>\"Mozilla/5.0 (iPhone; CPU iPhone OS 7_1_2 like...</td>\n",
       "      <td>100010</td>\n",
       "      <td>0</td>\n",
       "    </tr>\n",
       "    <tr>\n",
       "      <th>3</th>\n",
       "      <td>None</td>\n",
       "      <td>Logged In</td>\n",
       "      <td>Darianna</td>\n",
       "      <td>F</td>\n",
       "      <td>3</td>\n",
       "      <td>Carpenter</td>\n",
       "      <td>NaN</td>\n",
       "      <td>free</td>\n",
       "      <td>Bridgeport-Stamford-Norwalk, CT</td>\n",
       "      <td>PUT</td>\n",
       "      <td>Thumbs Up</td>\n",
       "      <td>1538016340000</td>\n",
       "      <td>31</td>\n",
       "      <td>None</td>\n",
       "      <td>307</td>\n",
       "      <td>1539003933000</td>\n",
       "      <td>\"Mozilla/5.0 (iPhone; CPU iPhone OS 7_1_2 like...</td>\n",
       "      <td>100010</td>\n",
       "      <td>0</td>\n",
       "    </tr>\n",
       "    <tr>\n",
       "      <th>4</th>\n",
       "      <td>Josh Ritter</td>\n",
       "      <td>Logged In</td>\n",
       "      <td>Darianna</td>\n",
       "      <td>F</td>\n",
       "      <td>4</td>\n",
       "      <td>Carpenter</td>\n",
       "      <td>316.23791</td>\n",
       "      <td>free</td>\n",
       "      <td>Bridgeport-Stamford-Norwalk, CT</td>\n",
       "      <td>PUT</td>\n",
       "      <td>NextSong</td>\n",
       "      <td>1538016340000</td>\n",
       "      <td>31</td>\n",
       "      <td>Folk Bloodbath</td>\n",
       "      <td>200</td>\n",
       "      <td>1539004195000</td>\n",
       "      <td>\"Mozilla/5.0 (iPhone; CPU iPhone OS 7_1_2 like...</td>\n",
       "      <td>100010</td>\n",
       "      <td>0</td>\n",
       "    </tr>\n",
       "  </tbody>\n",
       "</table>\n",
       "</div>"
      ],
      "text/plain": [
       "                  artist       auth firstName gender  itemInSession  \\\n",
       "0   Sleeping With Sirens  Logged In  Darianna      F              0   \n",
       "1  Francesca Battistelli  Logged In  Darianna      F              1   \n",
       "2                 Brutha  Logged In  Darianna      F              2   \n",
       "3                   None  Logged In  Darianna      F              3   \n",
       "4            Josh Ritter  Logged In  Darianna      F              4   \n",
       "\n",
       "    lastName     length level                         location method  \\\n",
       "0  Carpenter  202.97098  free  Bridgeport-Stamford-Norwalk, CT    PUT   \n",
       "1  Carpenter  196.54485  free  Bridgeport-Stamford-Norwalk, CT    PUT   \n",
       "2  Carpenter  263.13098  free  Bridgeport-Stamford-Norwalk, CT    PUT   \n",
       "3  Carpenter        NaN  free  Bridgeport-Stamford-Norwalk, CT    PUT   \n",
       "4  Carpenter  316.23791  free  Bridgeport-Stamford-Norwalk, CT    PUT   \n",
       "\n",
       "        page   registration  sessionId  \\\n",
       "0   NextSong  1538016340000         31   \n",
       "1   NextSong  1538016340000         31   \n",
       "2   NextSong  1538016340000         31   \n",
       "3  Thumbs Up  1538016340000         31   \n",
       "4   NextSong  1538016340000         31   \n",
       "\n",
       "                                        song  status             ts  \\\n",
       "0  Captain Tyin Knots VS Mr Walkway (No Way)     200  1539003534000   \n",
       "1               Beautiful_ Beautiful (Album)     200  1539003736000   \n",
       "2                                 She's Gone     200  1539003932000   \n",
       "3                                       None     307  1539003933000   \n",
       "4                             Folk Bloodbath     200  1539004195000   \n",
       "\n",
       "                                           userAgent  userId  churn  \n",
       "0  \"Mozilla/5.0 (iPhone; CPU iPhone OS 7_1_2 like...  100010      0  \n",
       "1  \"Mozilla/5.0 (iPhone; CPU iPhone OS 7_1_2 like...  100010      0  \n",
       "2  \"Mozilla/5.0 (iPhone; CPU iPhone OS 7_1_2 like...  100010      0  \n",
       "3  \"Mozilla/5.0 (iPhone; CPU iPhone OS 7_1_2 like...  100010      0  \n",
       "4  \"Mozilla/5.0 (iPhone; CPU iPhone OS 7_1_2 like...  100010      0  "
      ]
     },
     "execution_count": 17,
     "metadata": {},
     "output_type": "execute_result"
    }
   ],
   "source": [
    "pandas_df.head()"
   ]
  },
  {
   "cell_type": "markdown",
   "metadata": {},
   "source": [
    "### Explore Data\n",
    "Once you've defined churn, perform some exploratory data analysis to observe the behavior for users who stayed vs users who churned. You can start by exploring aggregates on these two groups of users, observing how much of a specific action they experienced per a certain time unit or number of songs played."
   ]
  },
  {
   "cell_type": "code",
   "execution_count": 18,
   "metadata": {},
   "outputs": [
    {
     "name": "stdout",
     "output_type": "stream",
     "text": [
      "+-----+-----+\n",
      "|churn|count|\n",
      "+-----+-----+\n",
      "|    0|  173|\n",
      "|    1|   52|\n",
      "+-----+-----+\n",
      "\n"
     ]
    }
   ],
   "source": [
    "# Count the number of users who churned and numebr who didn't.\n",
    "df.dropDuplicates(['userId']).groupby(['churn']).count().show()"
   ]
  },
  {
   "cell_type": "markdown",
   "metadata": {},
   "source": [
    "We can examine the churn counts further by diving the groups by different demographics (gender, level, etc.) For now, we can look at gender as one demographic."
   ]
  },
  {
   "cell_type": "code",
   "execution_count": 19,
   "metadata": {},
   "outputs": [
    {
     "name": "stdout",
     "output_type": "stream",
     "text": [
      "+-----+------+-----+\n",
      "|churn|gender|count|\n",
      "+-----+------+-----+\n",
      "|    0|     F|   84|\n",
      "|    1|     M|   32|\n",
      "|    1|     F|   20|\n",
      "|    0|     M|   89|\n",
      "+-----+------+-----+\n",
      "\n"
     ]
    }
   ],
   "source": [
    "df.dropDuplicates(['userId', 'gender']).groupby(['churn', 'gender']).count().show()"
   ]
  },
  {
   "cell_type": "markdown",
   "metadata": {},
   "source": [
    "Because reading numbers is often times difficult (especialyl when our tables get larger due to a larger number of partitions), we can create a function that will plot the columns we want."
   ]
  },
  {
   "cell_type": "code",
   "execution_count": 20,
   "metadata": {},
   "outputs": [],
   "source": [
    "def plot_demo_freq(subset, group, labels, X_label=\"# of Users\", Y_label=\"Status\"):\n",
    "    \"\"\"\n",
    "    This function outputs a bar horizontal chart showing the counts of churn vs non-churn users\n",
    "    for a specified group/subset of the data\n",
    "    \n",
    "    inputs:\n",
    "    subset - the column of data we want to focus the count on\n",
    "    group - the values of the subset that we wish to aggregate on\n",
    "    labels - the labels to display as the individual categories on the Y-axis\n",
    "    X_label - the label to describe the X-axis. Default value of \"# of users\"\n",
    "    Y-label - the label to descibe the Y-axis. Default value of \"Status\"\n",
    "    \n",
    "    return:\n",
    "    No value explicitly returned. The function plots a bar chart inline.\n",
    "    \"\"\"\n",
    "    ax = pandas_df.drop_duplicates(subset=subset).groupby(group)['userId'].count().plot(\n",
    "                        kind=\"barh\", figsize=(8,5),\n",
    "                        title=\"# Unique users per category\");\n",
    "    ax.set_xlabel(X_label);\n",
    "    ax.set_yticklabels(labels, rotation=0)\n",
    "    ax.set_ylabel(Y_label);"
   ]
  },
  {
   "cell_type": "code",
   "execution_count": 21,
   "metadata": {},
   "outputs": [
    {
     "data": {
      "image/png": "[encoded data removed]",
      "text/plain": [
       "<matplotlib.figure.Figure at 0x7f4cc0b3e7f0>"
      ]
     },
     "metadata": {
      "needs_background": "light"
     },
     "output_type": "display_data"
    }
   ],
   "source": [
    "plot_demo_freq(['userId'], ['churn'], ['Active', 'Cancelled'])"
   ]
  },
  {
   "cell_type": "code",
   "execution_count": 22,
   "metadata": {},
   "outputs": [
    {
     "data": {
      "image/png": "[encoded data removed]",
      "text/plain": [
       "<matplotlib.figure.Figure at 0x7f4cacdf3a90>"
      ]
     },
     "metadata": {
      "needs_background": "light"
     },
     "output_type": "display_data"
    }
   ],
   "source": [
    "plot_demo_freq(['userId', 'gender'], \n",
    "               ['gender', 'churn'], \n",
    "               ['Active-Female', 'Cancelled-Female', 'Active-Male', 'Cancelled-Male'])"
   ]
  },
  {
   "cell_type": "markdown",
   "metadata": {},
   "source": [
    "From this plot, we can see that male users have a higher number of both active and canel events. This could just be attributed to a higher number of male entries in the data set, though."
   ]
  },
  {
   "cell_type": "markdown",
   "metadata": {},
   "source": [
    "Let's take a look at the userAgent column:"
   ]
  },
  {
   "cell_type": "code",
   "execution_count": 23,
   "metadata": {},
   "outputs": [
    {
     "data": {
      "text/plain": [
       "\"Mozilla/5.0 (Windows NT 6.1; WOW64) AppleWebKit/537.36 (KHTML, like Gecko) Chrome/36.0.1985.143 Safari/537.36\"                                22751\n",
       "\"Mozilla/5.0 (Macintosh; Intel Mac OS X 10_9_4) AppleWebKit/537.77.4 (KHTML, like Gecko) Version/7.0.5 Safari/537.77.4\"                        19611\n",
       "\"Mozilla/5.0 (Macintosh; Intel Mac OS X 10_9_4) AppleWebKit/537.36 (KHTML, like Gecko) Chrome/36.0.1985.125 Safari/537.36\"                     18448\n",
       "\"Mozilla/5.0 (Macintosh; Intel Mac OS X 10_9_4) AppleWebKit/537.36 (KHTML, like Gecko) Chrome/36.0.1985.143 Safari/537.36\"                     17348\n",
       "Mozilla/5.0 (Windows NT 6.1; WOW64; rv:31.0) Gecko/20100101 Firefox/31.0                                                                       16700\n",
       "\"Mozilla/5.0 (Windows NT 6.1; WOW64) AppleWebKit/537.36 (KHTML, like Gecko) Chrome/36.0.1985.125 Safari/537.36\"                                15395\n",
       "\"Mozilla/5.0 (Windows NT 6.1; WOW64) AppleWebKit/537.36 (KHTML, like Gecko) Chrome/37.0.2062.103 Safari/537.36\"                                14598\n",
       "Mozilla/5.0 (Macintosh; Intel Mac OS X 10.9; rv:31.0) Gecko/20100101 Firefox/31.0                                                              10300\n",
       "\"Mozilla/5.0 (iPad; CPU OS 7_1_2 like Mac OS X) AppleWebKit/537.51.2 (KHTML, like Gecko) Version/7.0 Mobile/11D257 Safari/9537.53\"              8912\n",
       "Mozilla/5.0 (compatible; MSIE 9.0; Windows NT 6.1; WOW64; Trident/5.0)                                                                          8624\n",
       "\"Mozilla/5.0 (Macintosh; Intel Mac OS X 10_9_4) AppleWebKit/537.78.2 (KHTML, like Gecko) Version/7.0.6 Safari/537.78.2\"                         8094\n",
       "\"Mozilla/5.0 (Windows NT 6.1) AppleWebKit/537.36 (KHTML, like Gecko) Chrome/36.0.1985.143 Safari/537.36\"                                        7923\n",
       "\"Mozilla/5.0 (Macintosh; Intel Mac OS X 10_9_4) AppleWebKit/537.36 (KHTML, like Gecko) Chrome/37.0.2062.94 Safari/537.36\"                       7906\n",
       "\"Mozilla/5.0 (Windows NT 6.3; WOW64) AppleWebKit/537.36 (KHTML, like Gecko) Chrome/36.0.1985.143 Safari/537.36\"                                 7624\n",
       "\"Mozilla/5.0 (iPhone; CPU iPhone OS 7_1_2 like Mac OS X) AppleWebKit/537.51.2 (KHTML, like Gecko) Version/7.0 Mobile/11D257 Safari/9537.53\"     6417\n",
       "Mozilla/5.0 (Windows NT 6.3; WOW64; rv:31.0) Gecko/20100101 Firefox/31.0                                                                        5989\n",
       "\"Mozilla/5.0 (Macintosh; Intel Mac OS X 10_10) AppleWebKit/600.1.8 (KHTML, like Gecko) Version/8.0 Safari/600.1.8\"                              5716\n",
       "\"Mozilla/5.0 (Windows NT 5.1) AppleWebKit/537.36 (KHTML, like Gecko) Chrome/36.0.1985.143 Safari/537.36\"                                        5238\n",
       "\"Mozilla/5.0 (Windows NT 6.3; WOW64) AppleWebKit/537.36 (KHTML, like Gecko) Chrome/36.0.1985.125 Safari/537.36\"                                 4917\n",
       "Mozilla/5.0 (Windows NT 6.1; WOW64; Trident/7.0; rv:11.0) like Gecko                                                                            4663\n",
       "\"Mozilla/5.0 (Windows NT 6.1; WOW64) AppleWebKit/537.36 (KHTML, like Gecko) Chrome/37.0.2062.94 Safari/537.36\"                                  4103\n",
       "Mozilla/5.0 (Windows NT 6.1; WOW64; rv:32.0) Gecko/20100101 Firefox/32.0                                                                        3655\n",
       "Mozilla/5.0 (Windows NT 6.1; WOW64; rv:30.0) Gecko/20100101 Firefox/30.0                                                                        3214\n",
       "\"Mozilla/5.0 (Windows NT 6.2; WOW64) AppleWebKit/537.36 (KHTML, like Gecko) Chrome/36.0.1985.125 Safari/537.36\"                                 2868\n",
       "\"Mozilla/5.0 (X11; Linux x86_64) AppleWebKit/537.36 (KHTML, like Gecko) Chrome/36.0.1985.143 Safari/537.36\"                                     2842\n",
       "\"Mozilla/5.0 (Macintosh; Intel Mac OS X 10_9_2) AppleWebKit/537.36 (KHTML, like Gecko) Chrome/36.0.1985.125 Safari/537.36\"                      2804\n",
       "\"Mozilla/5.0 (iPhone; CPU iPhone OS 7_1 like Mac OS X) AppleWebKit/537.51.2 (KHTML, like Gecko) Version/7.0 Mobile/11D167 Safari/9537.53\"       2799\n",
       "Mozilla/5.0 (X11; Linux x86_64; rv:31.0) Gecko/20100101 Firefox/31.0                                                                            2544\n",
       "\"Mozilla/5.0 (iPad; CPU OS 7_1_1 like Mac OS X) AppleWebKit/537.51.2 (KHTML, like Gecko) Version/7.0 Mobile/11D201 Safari/9537.53\"              2469\n",
       "Mozilla/5.0 (Windows NT 6.0; rv:31.0) Gecko/20100101 Firefox/31.0                                                                               2442\n",
       "Mozilla/5.0 (Macintosh; Intel Mac OS X 10.7; rv:31.0) Gecko/20100101 Firefox/31.0                                                               2442\n",
       "\"Mozilla/5.0 (Windows NT 6.1; WOW64) AppleWebKit/537.36 (KHTML, like Gecko) Chrome/35.0.1916.153 Safari/537.36\"                                 2174\n",
       "\"Mozilla/5.0 (Windows NT 5.1) AppleWebKit/537.36 (KHTML, like Gecko) Chrome/36.0.1985.125 Safari/537.36\"                                        2168\n",
       "Mozilla/5.0 (Windows NT 6.2; WOW64; rv:31.0) Gecko/20100101 Firefox/31.0                                                                        2149\n",
       "\"Mozilla/5.0 (Windows NT 6.1) AppleWebKit/537.36 (KHTML, like Gecko) Chrome/36.0.1985.125 Safari/537.36\"                                        2132\n",
       "\"Mozilla/5.0 (Macintosh; Intel Mac OS X 10_9_3) AppleWebKit/537.76.4 (KHTML, like Gecko) Version/7.0.4 Safari/537.76.4\"                         2067\n",
       "\"Mozilla/5.0 (iPhone; CPU iPhone OS 7_1_1 like Mac OS X) AppleWebKit/537.51.2 (KHTML, like Gecko) Version/7.0 Mobile/11D201 Safari/9537.53\"     1976\n",
       "Mozilla/5.0 (Macintosh; Intel Mac OS X 10.8; rv:31.0) Gecko/20100101 Firefox/31.0                                                               1950\n",
       "Mozilla/5.0 (X11; Ubuntu; Linux x86_64; rv:31.0) Gecko/20100101 Firefox/31.0                                                                    1874\n",
       "\"Mozilla/5.0 (X11; Linux x86_64) AppleWebKit/537.36 (KHTML, like Gecko) Chrome/36.0.1985.125 Safari/537.36\"                                     1639\n",
       "\"Mozilla/5.0 (Macintosh; Intel Mac OS X 10_10) AppleWebKit/600.1.3 (KHTML, like Gecko) Version/8.0 Safari/600.1.3\"                              1322\n",
       "\"Mozilla/5.0 (Macintosh; Intel Mac OS X 10_9_4) AppleWebKit/537.36 (KHTML, like Gecko) Chrome/35.0.1916.153 Safari/537.36\"                      1262\n",
       "Mozilla/5.0 (compatible; MSIE 9.0; Windows NT 6.1; Trident/5.0)                                                                                 1245\n",
       "Mozilla/5.0 (Windows NT 6.1; WOW64; rv:24.0) Gecko/20100101 Firefox/24.0                                                                        1102\n",
       "\"Mozilla/5.0 (Macintosh; Intel Mac OS X 10_9_2) AppleWebKit/537.74.9 (KHTML, like Gecko) Version/7.0.2 Safari/537.74.9\"                         1102\n",
       "Mozilla/5.0 (Windows NT 6.1; rv:31.0) Gecko/20100101 Firefox/31.0                                                                                972\n",
       "Mozilla/5.0 (compatible; MSIE 10.0; Windows NT 6.1; WOW64; Trident/6.0)                                                                          815\n",
       "\"Mozilla/5.0 (Macintosh; Intel Mac OS X 10_7_5) AppleWebKit/537.77.4 (KHTML, like Gecko) Version/6.1.5 Safari/537.77.4\"                          573\n",
       "\"Mozilla/5.0 (Macintosh; Intel Mac OS X 10_9_2) AppleWebKit/537.75.14 (KHTML, like Gecko) Version/7.0.3 Safari/537.75.14\"                        512\n",
       "\"Mozilla/5.0 (Windows NT 6.2; WOW64) AppleWebKit/537.36 (KHTML, like Gecko) Chrome/36.0.1985.143 Safari/537.36\"                                  410\n",
       "\"Mozilla/5.0 (Macintosh; Intel Mac OS X 10_7_5) AppleWebKit/537.36 (KHTML, like Gecko) Chrome/36.0.1985.125 Safari/537.36\"                       379\n",
       "Mozilla/5.0 (Macintosh; Intel Mac OS X 10.6; rv:31.0) Gecko/20100101 Firefox/31.0                                                                251\n",
       "\"Mozilla/5.0 (Macintosh; Intel Mac OS X 10_8_5) AppleWebKit/537.36 (KHTML, like Gecko) Chrome/36.0.1985.143 Safari/537.36\"                       240\n",
       "\"Mozilla/5.0 (Macintosh; Intel Mac OS X 10_8_5) AppleWebKit/537.36 (KHTML, like Gecko) Chrome/37.0.2062.94 Safari/537.36\"                        235\n",
       "\"Mozilla/5.0 (Macintosh; Intel Mac OS X 10_6_8) AppleWebKit/537.36 (KHTML, like Gecko) Chrome/36.0.1985.143 Safari/537.36\"                       187\n",
       "Mozilla/5.0 (X11; Ubuntu; Linux i686; rv:31.0) Gecko/20100101 Firefox/31.0                                                                        62\n",
       "Name: userAgent, dtype: int64"
      ]
     },
     "execution_count": 23,
     "metadata": {},
     "output_type": "execute_result"
    }
   ],
   "source": [
    "pandas_df['userAgent'].value_counts()"
   ]
  },
  {
   "cell_type": "markdown",
   "metadata": {},
   "source": [
    "It looks like we have a lot of unique values that are only unique because of valeus outside the base OS used. We can use some code to clean this up into columns that are more usable for us."
   ]
  },
  {
   "cell_type": "code",
   "execution_count": 24,
   "metadata": {},
   "outputs": [
    {
     "data": {
      "text/plain": [
       "['\"Mozilla/5.0 (iPhone; CPU iPhone OS 7_1_2 like Mac OS X) AppleWebKit/537.51.2 (KHTML, like Gecko) Version/7.0 Mobile/11D257 Safari/9537.53\"',\n",
       " '\"Mozilla/5.0 (Macintosh; Intel Mac OS X 10_9_4) AppleWebKit/537.36 (KHTML, like Gecko) Chrome/36.0.1985.125 Safari/537.36\"',\n",
       " '\"Mozilla/5.0 (Windows NT 6.1; WOW64) AppleWebKit/537.36 (KHTML, like Gecko) Chrome/36.0.1985.143 Safari/537.36\"',\n",
       " 'Mozilla/5.0 (Windows NT 6.1; WOW64; rv:32.0) Gecko/20100101 Firefox/32.0',\n",
       " 'Mozilla/5.0 (Windows NT 6.2; WOW64; rv:31.0) Gecko/20100101 Firefox/31.0']"
      ]
     },
     "execution_count": 24,
     "metadata": {},
     "output_type": "execute_result"
    }
   ],
   "source": [
    "# strip excess characters from the strings\n",
    "agents = [x.strip() for x  in pandas_df.userAgent.unique()] \n",
    "agents[:10:2]"
   ]
  },
  {
   "cell_type": "code",
   "execution_count": 25,
   "metadata": {},
   "outputs": [
    {
     "data": {
      "text/plain": [
       "['Compatible',\n",
       " 'Ipad',\n",
       " 'Iphone',\n",
       " 'Macintosh',\n",
       " 'Windows nt 5.1',\n",
       " 'Windows nt 6.0',\n",
       " 'Windows nt 6.1',\n",
       " 'Windows nt 6.2',\n",
       " 'Windows nt 6.3',\n",
       " 'X11']"
      ]
     },
     "execution_count": 25,
     "metadata": {},
     "output_type": "execute_result"
    }
   ],
   "source": [
    "# Using regex to extract the relevant information in the parenthesis of the values\n",
    "expression = '\\(([^\\)]*)\\)'\n",
    "\n",
    "# Print this list of all OS used\n",
    "sorted(list(set([re.findall(\n",
    "    expression, x)[0].split(';')[0].capitalize(\n",
    ") for x  in agents])))"
   ]
  },
  {
   "cell_type": "code",
   "execution_count": 26,
   "metadata": {},
   "outputs": [],
   "source": [
    "# Now we create manual mappings for these values, for both the general and specific description of the OS used\n",
    "general_mapper = {'Compatible': 'Windows',  'Ipad': 'Mac',  'Iphone': 'Mac',  \n",
    "          'Macintosh': 'Mac',  'Windows nt 5.1': 'Windows',  \n",
    "          'Windows nt 6.0': 'Windows',  'Windows nt 6.1': 'Windows',  \n",
    "          'Windows nt 6.2': 'Windows',  'Windows nt 6.3': 'Windows',  \n",
    "          'X11': 'Linux'}\n",
    "specific_mapper = {'Compatible': 'Windows 7',  'Ipad': 'iPad',  'Iphone': 'iPhone',  \n",
    "          'Macintosh': 'MacOS',  'Windows nt 5.1': 'Windows XP',  \n",
    "          'Windows nt 6.0': 'Windows Vista',  'Windows nt 6.1': 'Windows 7',  \n",
    "          'Windows nt 6.2': 'Windows 8.0',  'Windows nt 6.3': 'Windows 8.1',  \n",
    "          'X11': 'Linux'}"
   ]
  },
  {
   "cell_type": "code",
   "execution_count": 27,
   "metadata": {},
   "outputs": [
    {
     "name": "stdout",
     "output_type": "stream",
     "text": [
      "['Linux', 'Mac', 'Windows'] ['Linux', 'MacOS', 'Windows 7', 'Windows 8.0', 'Windows 8.1', 'Windows Vista', 'Windows XP', 'iPad', 'iPhone']\n"
     ]
    }
   ],
   "source": [
    "# print the lists generated by applying our mappers\n",
    "print(sorted(list(set([general_mapper[re.findall(expression, x)[0].split(';')[0].capitalize()] for x  in agents]))),\n",
    "sorted(list(set([specific_mapper[re.findall(expression, x)[0].split(';')[0].capitalize()] for x  in agents]))))"
   ]
  },
  {
   "cell_type": "code",
   "execution_count": 28,
   "metadata": {},
   "outputs": [],
   "source": [
    "# Now we create user-defiend functions that will perform them apping on our Spark dataframe\n",
    "general_OS = udf(lambda x: general_mapper[re.findall(expression, x)[0].split(';')[0].capitalize()])\n",
    "df = df.withColumn(\"general_OS\", general_OS(df.userAgent))\n",
    "\n",
    "specific_OS = udf(lambda x: specific_mapper[re.findall(expression, x)[0].split(';')[0].capitalize()])\n",
    "df = df.withColumn(\"specific_OS\", specific_OS(df.userAgent))"
   ]
  },
  {
   "cell_type": "code",
   "execution_count": 29,
   "metadata": {},
   "outputs": [],
   "source": [
    "# redefine pandas DF\n",
    "pandas_df = df.toPandas()"
   ]
  },
  {
   "cell_type": "code",
   "execution_count": 30,
   "metadata": {},
   "outputs": [
    {
     "data": {
      "text/html": [
       "<div>\n",
       "<style scoped>\n",
       "    .dataframe tbody tr th:only-of-type {\n",
       "        vertical-align: middle;\n",
       "    }\n",
       "\n",
       "    .dataframe tbody tr th {\n",
       "        vertical-align: top;\n",
       "    }\n",
       "\n",
       "    .dataframe thead th {\n",
       "        text-align: right;\n",
       "    }\n",
       "</style>\n",
       "<table border=\"1\" class=\"dataframe\">\n",
       "  <thead>\n",
       "    <tr style=\"text-align: right;\">\n",
       "      <th></th>\n",
       "      <th>specific_OS</th>\n",
       "      <th>general_OS</th>\n",
       "    </tr>\n",
       "  </thead>\n",
       "  <tbody>\n",
       "    <tr>\n",
       "      <th>0</th>\n",
       "      <td>iPhone</td>\n",
       "      <td>Mac</td>\n",
       "    </tr>\n",
       "    <tr>\n",
       "      <th>1</th>\n",
       "      <td>iPhone</td>\n",
       "      <td>Mac</td>\n",
       "    </tr>\n",
       "    <tr>\n",
       "      <th>2</th>\n",
       "      <td>iPhone</td>\n",
       "      <td>Mac</td>\n",
       "    </tr>\n",
       "    <tr>\n",
       "      <th>3</th>\n",
       "      <td>iPhone</td>\n",
       "      <td>Mac</td>\n",
       "    </tr>\n",
       "    <tr>\n",
       "      <th>4</th>\n",
       "      <td>iPhone</td>\n",
       "      <td>Mac</td>\n",
       "    </tr>\n",
       "  </tbody>\n",
       "</table>\n",
       "</div>"
      ],
      "text/plain": [
       "  specific_OS general_OS\n",
       "0      iPhone        Mac\n",
       "1      iPhone        Mac\n",
       "2      iPhone        Mac\n",
       "3      iPhone        Mac\n",
       "4      iPhone        Mac"
      ]
     },
     "execution_count": 30,
     "metadata": {},
     "output_type": "execute_result"
    }
   ],
   "source": [
    "# check our new columns\n",
    "pandas_df[['specific_OS', 'general_OS']].head()"
   ]
  },
  {
   "cell_type": "markdown",
   "metadata": {},
   "source": [
    "# Feature Engineering\n",
    "Once you've familiarized yourself with the data, build out the features you find promising to train your model on. To work with the full dataset, you can follow the following steps.\n",
    "- Write a script to extract the necessary features from the smaller subset of data\n",
    "- Ensure that your script is scalable, using the best practices discussed in Lesson 3\n",
    "- Try your script on the full data set, debugging your script if necessary\n",
    "\n",
    "If you are working in the classroom workspace, you can just extract features based on the small subset of data contained here. Be sure to transfer over this work to the larger dataset when you work on your Spark cluster."
   ]
  },
  {
   "cell_type": "code",
   "execution_count": 31,
   "metadata": {},
   "outputs": [
    {
     "name": "stdout",
     "output_type": "stream",
     "text": [
      "+------+-----+\n",
      "|userId|churn|\n",
      "+------+-----+\n",
      "|100010|    0|\n",
      "|200002|    0|\n",
      "|   125|    1|\n",
      "|   124|    0|\n",
      "|    51|    1|\n",
      "|     7|    0|\n",
      "|    15|    0|\n",
      "|    54|    1|\n",
      "|   155|    0|\n",
      "|100014|    1|\n",
      "+------+-----+\n",
      "only showing top 10 rows\n",
      "\n"
     ]
    }
   ],
   "source": [
    "# Create a base df of jsut userIds and churn status\n",
    "churn_df = df.select('userId', 'churn').dropDuplicates()\n",
    "\n",
    "churn_df.show(10)"
   ]
  },
  {
   "cell_type": "code",
   "execution_count": 32,
   "metadata": {},
   "outputs": [
    {
     "name": "stdout",
     "output_type": "stream",
     "text": [
      "root\n",
      " |-- userId: string (nullable = true)\n",
      " |-- gender: integer (nullable = true)\n",
      "\n",
      "+------+------+\n",
      "|userId|gender|\n",
      "+------+------+\n",
      "|    44|     0|\n",
      "|    46|     0|\n",
      "|    41|     0|\n",
      "|    72|     0|\n",
      "|300023|     0|\n",
      "+------+------+\n",
      "only showing top 5 rows\n",
      "\n",
      "None None\n"
     ]
    }
   ],
   "source": [
    "def create_dummies(col, mapper):\n",
    "    \"\"\"\n",
    "    This function creates a dummy df that takes a particular column and mapping dinctionary\n",
    "    and applies the mapping to one-hot encode the input column\n",
    "    \n",
    "    inputs:\n",
    "    col - The column from a Spark DataFrame to be one-hot encoded\n",
    "    mapper - A dictionary that maps the values of col to a binary 1 or 0.\n",
    "    \n",
    "    return:\n",
    "    returns a Spark DataFrame object that contains the userId column and one-hot encoded version of the input column\n",
    "    \"\"\"\n",
    "    col_df = df.select('userId', col).dropDuplicates().replace(mapper, subset=col)\n",
    "    col_df = col_df.select('userId', col_df[col].cast('int'))\n",
    "    \n",
    "    print(col_df.printSchema(), col_df.show(5))\n",
    "    return col_df\n",
    "\n",
    "gender_df =  create_dummies('gender', {'M':'1', 'F':'0'})"
   ]
  },
  {
   "cell_type": "code",
   "execution_count": 33,
   "metadata": {},
   "outputs": [
    {
     "name": "stdout",
     "output_type": "stream",
     "text": [
      "+------+-------+---------+--------------+--------+----------------+--------------+--------+-------------+------------+\n",
      "|userId|OS_iPad|OS_iPhone|OS_Windows 8.1|OS_Linux|OS_Windows Vista|OS_Windows 8.0|OS_MacOS|OS_Windows XP|OS_Windows 7|\n",
      "+------+-------+---------+--------------+--------+----------------+--------------+--------+-------------+------------+\n",
      "|    30|      0|        0|             0|       0|               0|             0|       0|            0|           1|\n",
      "|     9|      0|        0|             0|       0|               0|             0|       0|            0|           1|\n",
      "|    30|      0|        0|             0|       0|               0|             0|       0|            0|           1|\n",
      "|     9|      0|        0|             0|       0|               0|             0|       0|            0|           1|\n",
      "|    30|      0|        0|             0|       0|               0|             0|       0|            0|           1|\n",
      "|     9|      0|        0|             0|       0|               0|             0|       0|            0|           1|\n",
      "|     9|      0|        0|             0|       0|               0|             0|       0|            0|           1|\n",
      "|    30|      0|        0|             0|       0|               0|             0|       0|            0|           1|\n",
      "|    30|      0|        0|             0|       0|               0|             0|       0|            0|           1|\n",
      "|    30|      0|        0|             0|       0|               0|             0|       0|            0|           1|\n",
      "+------+-------+---------+--------------+--------+----------------+--------------+--------+-------------+------------+\n",
      "only showing top 10 rows\n",
      "\n"
     ]
    }
   ],
   "source": [
    "os_titles =  df.select('specific_os').distinct().rdd.flatMap(lambda x: x).collect()\n",
    "os_expr = [sF.when(sF.col('specific_os') == osdt, 1).otherwise(0).alias(\"OS_\" + osdt) for osdt in os_titles]\n",
    "os_df = df.select('userId', *os_expr)\n",
    "os_df.show(10)"
   ]
  },
  {
   "cell_type": "code",
   "execution_count": 34,
   "metadata": {},
   "outputs": [
    {
     "name": "stdout",
     "output_type": "stream",
     "text": [
      "root\n",
      " |-- userId: string (nullable = true)\n",
      " |-- level: integer (nullable = true)\n",
      "\n",
      "+------+-----+\n",
      "|userId|level|\n",
      "+------+-----+\n",
      "|100021|    0|\n",
      "|200021|    0|\n",
      "|200001|    0|\n",
      "|     6|    0|\n",
      "|300022|    1|\n",
      "+------+-----+\n",
      "only showing top 5 rows\n",
      "\n",
      "None None\n"
     ]
    }
   ],
   "source": [
    "# create dummy variables for the user tier\n",
    "level_df = create_dummies('level', {'paid':'1', 'free':'0'})"
   ]
  },
  {
   "cell_type": "code",
   "execution_count": 35,
   "metadata": {},
   "outputs": [
    {
     "data": {
      "text/html": [
       "<div>\n",
       "<style scoped>\n",
       "    .dataframe tbody tr th:only-of-type {\n",
       "        vertical-align: middle;\n",
       "    }\n",
       "\n",
       "    .dataframe tbody tr th {\n",
       "        vertical-align: top;\n",
       "    }\n",
       "\n",
       "    .dataframe thead th {\n",
       "        text-align: right;\n",
       "    }\n",
       "</style>\n",
       "<table border=\"1\" class=\"dataframe\">\n",
       "  <thead>\n",
       "    <tr style=\"text-align: right;\">\n",
       "      <th></th>\n",
       "      <th>userId</th>\n",
       "      <th>mean_hours</th>\n",
       "      <th>stdev_hours</th>\n",
       "    </tr>\n",
       "  </thead>\n",
       "  <tbody>\n",
       "    <tr>\n",
       "      <th>0</th>\n",
       "      <td>100010</td>\n",
       "      <td>2.656385</td>\n",
       "      <td>1.594089</td>\n",
       "    </tr>\n",
       "    <tr>\n",
       "      <th>1</th>\n",
       "      <td>200002</td>\n",
       "      <td>4.352263</td>\n",
       "      <td>3.481087</td>\n",
       "    </tr>\n",
       "    <tr>\n",
       "      <th>2</th>\n",
       "      <td>125</td>\n",
       "      <td>0.580309</td>\n",
       "      <td>0.000000</td>\n",
       "    </tr>\n",
       "    <tr>\n",
       "      <th>3</th>\n",
       "      <td>51</td>\n",
       "      <td>14.535440</td>\n",
       "      <td>11.600663</td>\n",
       "    </tr>\n",
       "    <tr>\n",
       "      <th>4</th>\n",
       "      <td>124</td>\n",
       "      <td>10.042779</td>\n",
       "      <td>9.370878</td>\n",
       "    </tr>\n",
       "    <tr>\n",
       "      <th>5</th>\n",
       "      <td>7</td>\n",
       "      <td>1.509289</td>\n",
       "      <td>1.737257</td>\n",
       "    </tr>\n",
       "    <tr>\n",
       "      <th>6</th>\n",
       "      <td>54</td>\n",
       "      <td>5.645595</td>\n",
       "      <td>6.724164</td>\n",
       "    </tr>\n",
       "    <tr>\n",
       "      <th>7</th>\n",
       "      <td>15</td>\n",
       "      <td>9.470389</td>\n",
       "      <td>6.159368</td>\n",
       "    </tr>\n",
       "    <tr>\n",
       "      <th>8</th>\n",
       "      <td>155</td>\n",
       "      <td>9.202745</td>\n",
       "      <td>6.528672</td>\n",
       "    </tr>\n",
       "    <tr>\n",
       "      <th>9</th>\n",
       "      <td>100014</td>\n",
       "      <td>3.134420</td>\n",
       "      <td>1.754365</td>\n",
       "    </tr>\n",
       "  </tbody>\n",
       "</table>\n",
       "</div>"
      ],
      "text/plain": [
       "   userId  mean_hours  stdev_hours\n",
       "0  100010    2.656385     1.594089\n",
       "1  200002    4.352263     3.481087\n",
       "2     125    0.580309     0.000000\n",
       "3      51   14.535440    11.600663\n",
       "4     124   10.042779     9.370878\n",
       "5       7    1.509289     1.737257\n",
       "6      54    5.645595     6.724164\n",
       "7      15    9.470389     6.159368\n",
       "8     155    9.202745     6.528672\n",
       "9  100014    3.134420     1.754365"
      ]
     },
     "execution_count": 35,
     "metadata": {},
     "output_type": "execute_result"
    }
   ],
   "source": [
    "# Get song length per user per session\n",
    "song_length = df.filter(df.page=='NextSong').select('userId', 'sessionId', 'length')\n",
    "song_length = song_length.withColumn('hours', (song_length.length / 3600))\n",
    "song_length = song_length.groupBy('userId', 'sessionId').sum('hours')\n",
    "song_length = song_length.groupBy('userId').agg(\n",
    "                        sF.avg('sum(hours)').alias('mean_hours'), \n",
    "                        sF.stddev('sum(hours)').alias('stdev_hours')).na.fill(0)\n",
    "song_length.toPandas().head(10)"
   ]
  },
  {
   "cell_type": "code",
   "execution_count": 36,
   "metadata": {},
   "outputs": [
    {
     "data": {
      "text/html": [
       "<div>\n",
       "<style scoped>\n",
       "    .dataframe tbody tr th:only-of-type {\n",
       "        vertical-align: middle;\n",
       "    }\n",
       "\n",
       "    .dataframe tbody tr th {\n",
       "        vertical-align: top;\n",
       "    }\n",
       "\n",
       "    .dataframe thead th {\n",
       "        text-align: right;\n",
       "    }\n",
       "</style>\n",
       "<table border=\"1\" class=\"dataframe\">\n",
       "  <thead>\n",
       "    <tr style=\"text-align: right;\">\n",
       "      <th></th>\n",
       "      <th>userId</th>\n",
       "      <th>About</th>\n",
       "      <th>Add Friend</th>\n",
       "      <th>Add to Playlist</th>\n",
       "      <th>Downgrade</th>\n",
       "      <th>Error</th>\n",
       "      <th>Help</th>\n",
       "      <th>Home</th>\n",
       "      <th>Logout</th>\n",
       "      <th>NextSong</th>\n",
       "      <th>Roll Advert</th>\n",
       "      <th>Save Settings</th>\n",
       "      <th>Settings</th>\n",
       "      <th>Submit Downgrade</th>\n",
       "      <th>Submit Upgrade</th>\n",
       "      <th>Thumbs Down</th>\n",
       "      <th>Thumbs Up</th>\n",
       "      <th>Upgrade</th>\n",
       "    </tr>\n",
       "  </thead>\n",
       "  <tbody>\n",
       "    <tr>\n",
       "      <th>0</th>\n",
       "      <td>200002</td>\n",
       "      <td>0.632911</td>\n",
       "      <td>0.843882</td>\n",
       "      <td>1.687764</td>\n",
       "      <td>1.054852</td>\n",
       "      <td>0.000000</td>\n",
       "      <td>0.421941</td>\n",
       "      <td>4.219409</td>\n",
       "      <td>1.054852</td>\n",
       "      <td>81.645570</td>\n",
       "      <td>1.476793</td>\n",
       "      <td>0.000000</td>\n",
       "      <td>0.632911</td>\n",
       "      <td>0.000000</td>\n",
       "      <td>0.210970</td>\n",
       "      <td>1.265823</td>\n",
       "      <td>4.430380</td>\n",
       "      <td>0.421941</td>\n",
       "    </tr>\n",
       "    <tr>\n",
       "      <th>1</th>\n",
       "      <td>100010</td>\n",
       "      <td>0.262467</td>\n",
       "      <td>1.049869</td>\n",
       "      <td>1.837270</td>\n",
       "      <td>0.000000</td>\n",
       "      <td>0.000000</td>\n",
       "      <td>0.524934</td>\n",
       "      <td>2.887139</td>\n",
       "      <td>1.312336</td>\n",
       "      <td>72.178478</td>\n",
       "      <td>13.648294</td>\n",
       "      <td>0.000000</td>\n",
       "      <td>0.000000</td>\n",
       "      <td>0.000000</td>\n",
       "      <td>0.000000</td>\n",
       "      <td>1.312336</td>\n",
       "      <td>4.461942</td>\n",
       "      <td>0.524934</td>\n",
       "    </tr>\n",
       "    <tr>\n",
       "      <th>2</th>\n",
       "      <td>125</td>\n",
       "      <td>0.000000</td>\n",
       "      <td>0.000000</td>\n",
       "      <td>0.000000</td>\n",
       "      <td>0.000000</td>\n",
       "      <td>0.000000</td>\n",
       "      <td>0.000000</td>\n",
       "      <td>0.000000</td>\n",
       "      <td>0.000000</td>\n",
       "      <td>88.888889</td>\n",
       "      <td>11.111111</td>\n",
       "      <td>0.000000</td>\n",
       "      <td>0.000000</td>\n",
       "      <td>0.000000</td>\n",
       "      <td>0.000000</td>\n",
       "      <td>0.000000</td>\n",
       "      <td>0.000000</td>\n",
       "      <td>0.000000</td>\n",
       "    </tr>\n",
       "    <tr>\n",
       "      <th>3</th>\n",
       "      <td>51</td>\n",
       "      <td>0.081235</td>\n",
       "      <td>1.137287</td>\n",
       "      <td>2.112104</td>\n",
       "      <td>0.934200</td>\n",
       "      <td>0.040617</td>\n",
       "      <td>0.487409</td>\n",
       "      <td>3.046304</td>\n",
       "      <td>0.974817</td>\n",
       "      <td>85.743298</td>\n",
       "      <td>0.000000</td>\n",
       "      <td>0.040617</td>\n",
       "      <td>0.487409</td>\n",
       "      <td>0.000000</td>\n",
       "      <td>0.000000</td>\n",
       "      <td>0.852965</td>\n",
       "      <td>4.061738</td>\n",
       "      <td>0.000000</td>\n",
       "    </tr>\n",
       "    <tr>\n",
       "      <th>4</th>\n",
       "      <td>124</td>\n",
       "      <td>0.145078</td>\n",
       "      <td>1.533679</td>\n",
       "      <td>2.445596</td>\n",
       "      <td>0.849741</td>\n",
       "      <td>0.124352</td>\n",
       "      <td>0.476684</td>\n",
       "      <td>3.647668</td>\n",
       "      <td>1.222798</td>\n",
       "      <td>84.538860</td>\n",
       "      <td>0.082902</td>\n",
       "      <td>0.124352</td>\n",
       "      <td>0.414508</td>\n",
       "      <td>0.000000</td>\n",
       "      <td>0.000000</td>\n",
       "      <td>0.849741</td>\n",
       "      <td>3.544041</td>\n",
       "      <td>0.000000</td>\n",
       "    </tr>\n",
       "    <tr>\n",
       "      <th>5</th>\n",
       "      <td>7</td>\n",
       "      <td>0.000000</td>\n",
       "      <td>0.497512</td>\n",
       "      <td>2.487562</td>\n",
       "      <td>0.000000</td>\n",
       "      <td>0.497512</td>\n",
       "      <td>0.497512</td>\n",
       "      <td>4.975124</td>\n",
       "      <td>1.492537</td>\n",
       "      <td>74.626866</td>\n",
       "      <td>7.960199</td>\n",
       "      <td>0.497512</td>\n",
       "      <td>1.492537</td>\n",
       "      <td>0.000000</td>\n",
       "      <td>0.000000</td>\n",
       "      <td>0.497512</td>\n",
       "      <td>3.482587</td>\n",
       "      <td>0.995025</td>\n",
       "    </tr>\n",
       "    <tr>\n",
       "      <th>6</th>\n",
       "      <td>54</td>\n",
       "      <td>0.145560</td>\n",
       "      <td>0.960699</td>\n",
       "      <td>2.096070</td>\n",
       "      <td>1.135371</td>\n",
       "      <td>0.029112</td>\n",
       "      <td>0.494905</td>\n",
       "      <td>3.755459</td>\n",
       "      <td>1.048035</td>\n",
       "      <td>82.707424</td>\n",
       "      <td>1.368268</td>\n",
       "      <td>0.087336</td>\n",
       "      <td>0.494905</td>\n",
       "      <td>0.029112</td>\n",
       "      <td>0.029112</td>\n",
       "      <td>0.844250</td>\n",
       "      <td>4.745269</td>\n",
       "      <td>0.029112</td>\n",
       "    </tr>\n",
       "    <tr>\n",
       "      <th>7</th>\n",
       "      <td>15</td>\n",
       "      <td>0.087796</td>\n",
       "      <td>1.360843</td>\n",
       "      <td>2.589991</td>\n",
       "      <td>1.229148</td>\n",
       "      <td>0.087796</td>\n",
       "      <td>0.351185</td>\n",
       "      <td>4.082529</td>\n",
       "      <td>1.185250</td>\n",
       "      <td>84.021071</td>\n",
       "      <td>0.043898</td>\n",
       "      <td>0.087796</td>\n",
       "      <td>0.702371</td>\n",
       "      <td>0.000000</td>\n",
       "      <td>0.000000</td>\n",
       "      <td>0.614574</td>\n",
       "      <td>3.555751</td>\n",
       "      <td>0.000000</td>\n",
       "    </tr>\n",
       "    <tr>\n",
       "      <th>8</th>\n",
       "      <td>155</td>\n",
       "      <td>0.199601</td>\n",
       "      <td>1.097804</td>\n",
       "      <td>2.395210</td>\n",
       "      <td>1.197605</td>\n",
       "      <td>0.299401</td>\n",
       "      <td>0.898204</td>\n",
       "      <td>2.994012</td>\n",
       "      <td>1.397206</td>\n",
       "      <td>81.836327</td>\n",
       "      <td>0.798403</td>\n",
       "      <td>0.000000</td>\n",
       "      <td>0.499002</td>\n",
       "      <td>0.000000</td>\n",
       "      <td>0.099800</td>\n",
       "      <td>0.299401</td>\n",
       "      <td>5.788423</td>\n",
       "      <td>0.199601</td>\n",
       "    </tr>\n",
       "    <tr>\n",
       "      <th>9</th>\n",
       "      <td>132</td>\n",
       "      <td>0.173611</td>\n",
       "      <td>1.779514</td>\n",
       "      <td>1.649306</td>\n",
       "      <td>0.824653</td>\n",
       "      <td>0.130208</td>\n",
       "      <td>0.694444</td>\n",
       "      <td>3.602431</td>\n",
       "      <td>1.475694</td>\n",
       "      <td>83.680556</td>\n",
       "      <td>0.086806</td>\n",
       "      <td>0.173611</td>\n",
       "      <td>0.737847</td>\n",
       "      <td>0.000000</td>\n",
       "      <td>0.043403</td>\n",
       "      <td>0.737847</td>\n",
       "      <td>4.166667</td>\n",
       "      <td>0.043403</td>\n",
       "    </tr>\n",
       "  </tbody>\n",
       "</table>\n",
       "</div>"
      ],
      "text/plain": [
       "   userId     About  Add Friend  Add to Playlist  Downgrade     Error  \\\n",
       "0  200002  0.632911    0.843882         1.687764   1.054852  0.000000   \n",
       "1  100010  0.262467    1.049869         1.837270   0.000000  0.000000   \n",
       "2     125  0.000000    0.000000         0.000000   0.000000  0.000000   \n",
       "3      51  0.081235    1.137287         2.112104   0.934200  0.040617   \n",
       "4     124  0.145078    1.533679         2.445596   0.849741  0.124352   \n",
       "5       7  0.000000    0.497512         2.487562   0.000000  0.497512   \n",
       "6      54  0.145560    0.960699         2.096070   1.135371  0.029112   \n",
       "7      15  0.087796    1.360843         2.589991   1.229148  0.087796   \n",
       "8     155  0.199601    1.097804         2.395210   1.197605  0.299401   \n",
       "9     132  0.173611    1.779514         1.649306   0.824653  0.130208   \n",
       "\n",
       "       Help      Home    Logout   NextSong  Roll Advert  Save Settings  \\\n",
       "0  0.421941  4.219409  1.054852  81.645570     1.476793       0.000000   \n",
       "1  0.524934  2.887139  1.312336  72.178478    13.648294       0.000000   \n",
       "2  0.000000  0.000000  0.000000  88.888889    11.111111       0.000000   \n",
       "3  0.487409  3.046304  0.974817  85.743298     0.000000       0.040617   \n",
       "4  0.476684  3.647668  1.222798  84.538860     0.082902       0.124352   \n",
       "5  0.497512  4.975124  1.492537  74.626866     7.960199       0.497512   \n",
       "6  0.494905  3.755459  1.048035  82.707424     1.368268       0.087336   \n",
       "7  0.351185  4.082529  1.185250  84.021071     0.043898       0.087796   \n",
       "8  0.898204  2.994012  1.397206  81.836327     0.798403       0.000000   \n",
       "9  0.694444  3.602431  1.475694  83.680556     0.086806       0.173611   \n",
       "\n",
       "   Settings  Submit Downgrade  Submit Upgrade  Thumbs Down  Thumbs Up  \\\n",
       "0  0.632911          0.000000        0.210970     1.265823   4.430380   \n",
       "1  0.000000          0.000000        0.000000     1.312336   4.461942   \n",
       "2  0.000000          0.000000        0.000000     0.000000   0.000000   \n",
       "3  0.487409          0.000000        0.000000     0.852965   4.061738   \n",
       "4  0.414508          0.000000        0.000000     0.849741   3.544041   \n",
       "5  1.492537          0.000000        0.000000     0.497512   3.482587   \n",
       "6  0.494905          0.029112        0.029112     0.844250   4.745269   \n",
       "7  0.702371          0.000000        0.000000     0.614574   3.555751   \n",
       "8  0.499002          0.000000        0.099800     0.299401   5.788423   \n",
       "9  0.737847          0.000000        0.043403     0.737847   4.166667   \n",
       "\n",
       "    Upgrade  \n",
       "0  0.421941  \n",
       "1  0.524934  \n",
       "2  0.000000  \n",
       "3  0.000000  \n",
       "4  0.000000  \n",
       "5  0.995025  \n",
       "6  0.029112  \n",
       "7  0.000000  \n",
       "8  0.199601  \n",
       "9  0.043403  "
      ]
     },
     "execution_count": 36,
     "metadata": {},
     "output_type": "execute_result"
    }
   ],
   "source": [
    "# Getting additional metrics\n",
    "page_dist = df.groupby('userId').pivot('page').count().na.fill(0)\n",
    "page_dist = page_dist.drop(*['Cancel','Cancellation Confirmation'])\n",
    "\n",
    "page_cols = page_dist.columns[1:]\n",
    "\n",
    "df2 = page_dist.withColumn('total', sum(page_dist[col] for col in page_cols))\n",
    "\n",
    "for col in page_cols:\n",
    "    df2 = df2.withColumn(f'norm_{col}', df2[col]/df2['total'] * 100.)\n",
    "    \n",
    "df2 = df2.drop('total')\n",
    "\n",
    "df2 = df2.drop(*page_cols)\n",
    "\n",
    "old_cols = df2.columns\n",
    "new_cols = ['userId'] + page_cols\n",
    "\n",
    "page_dist = reduce(lambda df2, idx: df2.withColumnRenamed(old_cols[idx], new_cols[idx]), range(len(old_cols)), df2)\n",
    "\n",
    "# free up memory\n",
    "df2 = None \n",
    "\n",
    "page_dist.toPandas().head(10)"
   ]
  },
  {
   "cell_type": "code",
   "execution_count": 37,
   "metadata": {},
   "outputs": [],
   "source": [
    "song_user_df = df.filter(df.page == 'NextSong').groupBy(\n",
    "                        'userId', 'sessionId').count()\n",
    "song_user_df = song_user_df.groupBy('userId').agg(\n",
    "                        sF.avg('count').alias('mean_songs'), \n",
    "                        sF.stddev('count').alias('stdev_songs'))\n",
    "song_user_df = song_user_df.na.fill(0)"
   ]
  },
  {
   "cell_type": "code",
   "execution_count": 38,
   "metadata": {},
   "outputs": [
    {
     "name": "stdout",
     "output_type": "stream",
     "text": [
      "+------+----------+\n",
      "|userId|num_aritst|\n",
      "+------+----------+\n",
      "|100010|       253|\n",
      "|200002|       340|\n",
      "|   125|         9|\n",
      "|    51|      1386|\n",
      "|   124|      2233|\n",
      "+------+----------+\n",
      "only showing top 5 rows\n",
      "\n"
     ]
    }
   ],
   "source": [
    "artists_user_fans = df.select('userId', 'artist').dropDuplicates().groupBy('userId').count().withColumnRenamed(\"count\", \"num_aritst\")\n",
    "artists_user_fans.show(5)"
   ]
  },
  {
   "cell_type": "code",
   "execution_count": 39,
   "metadata": {},
   "outputs": [
    {
     "name": "stdout",
     "output_type": "stream",
     "text": [
      "+------+---------+-------------------+\n",
      "|userId|sessionId|      session_hours|\n",
      "+------+---------+-------------------+\n",
      "|   101|      635| 55.000277777777775|\n",
      "|   110|     1776| 1.3908333333333334|\n",
      "|   120|      627| 15.855555555555556|\n",
      "|   122|      691|0.30833333333333335|\n",
      "|   140|      798|0.16027777777777777|\n",
      "+------+---------+-------------------+\n",
      "only showing top 5 rows\n",
      "\n"
     ]
    }
   ],
   "source": [
    "session_end = df.groupBy('userId', 'sessionId').max('ts').withColumnRenamed(\n",
    "                                                            'max(ts)', 'end')\n",
    "session_start = df.groupBy('userId', 'sessionId').min('ts').withColumnRenamed(\n",
    "                                                            'min(ts)', 'start')\n",
    "session_df = session_start.join(session_end,['userId', 'sessionId'])\n",
    "ticks_per_hours = 1000 * 60 * 60\n",
    "session_df = session_df.select('userId', 'sessionId', ((\n",
    "    session_df.end-session_df.start)/ticks_per_hours).alias('session_hours'))\n",
    "session_df.show(5)"
   ]
  },
  {
   "cell_type": "code",
   "execution_count": 40,
   "metadata": {},
   "outputs": [
    {
     "name": "stdout",
     "output_type": "stream",
     "text": [
      "+------+-------------------+------------------+\n",
      "|userId|     mean_session_h|   stdev_session_h|\n",
      "+------+-------------------+------------------+\n",
      "|100010|  2.574722222222223|1.5888758093219746|\n",
      "|200002|               4.44| 3.615756029749058|\n",
      "|   125|0.49277777777777776|               0.0|\n",
      "|    51| 14.539277777777775|11.671992558014606|\n",
      "|   124|  9.649904214559387| 9.380928117286047|\n",
      "+------+-------------------+------------------+\n",
      "only showing top 5 rows\n",
      "\n"
     ]
    }
   ],
   "source": [
    "session_user_df = session_df.groupBy('userId').agg(\n",
    "                        sF.avg('session_hours').alias('mean_session_h'), \n",
    "                        sF.stddev('session_hours').alias('stdev_session_h'))\n",
    "# Fill NaN with 0\n",
    "session_user_df = session_user_df.na.fill(0)\n",
    "session_user_df.show(5)"
   ]
  },
  {
   "cell_type": "code",
   "execution_count": 41,
   "metadata": {},
   "outputs": [
    {
     "name": "stdout",
     "output_type": "stream",
     "text": [
      "+------+------------+\n",
      "|userId|num_sessions|\n",
      "+------+------------+\n",
      "|100010|           7|\n",
      "|200002|           6|\n",
      "|   125|           1|\n",
      "|    51|          10|\n",
      "|   124|          29|\n",
      "+------+------------+\n",
      "only showing top 5 rows\n",
      "\n"
     ]
    }
   ],
   "source": [
    "num_sessions_user_df = df.select('userId', 'sessionId').dropDuplicates().groupby('userId').count().withColumnRenamed('count', 'num_sessions')\n",
    "num_sessions_user_df.show(5)"
   ]
  },
  {
   "cell_type": "code",
   "execution_count": 42,
   "metadata": {},
   "outputs": [
    {
     "name": "stdout",
     "output_type": "stream",
     "text": [
      "+------+-----------------------+\n",
      "|userId|days_total_subscription|\n",
      "+------+-----------------------+\n",
      "|100010|      55.64365740740741|\n",
      "|200002|      70.07462962962963|\n",
      "|   125|      71.31688657407408|\n",
      "|   124|     131.55591435185184|\n",
      "|    51|     19.455844907407407|\n",
      "+------+-----------------------+\n",
      "only showing top 5 rows\n",
      "\n"
     ]
    }
   ],
   "source": [
    "def days_since_subscription(df, col_name='days_on'):\n",
    "    \"\"\"\n",
    "    This function takes the amount of time in ticks (0.001s) in a column and converts it into days\n",
    "    \n",
    "    inputs:\n",
    "    df - the dataframe object that contains the relevant column\n",
    "    col_name - the column that will have the conversion performed on it.\n",
    "    \n",
    "    retuns:\n",
    "    A Spark DataFrame object containing a userId column and the specified column converted \n",
    "    into the total days of subscription for a user\n",
    "    \"\"\"\n",
    "    reg_ts = df.select('userId', 'registration').dropDuplicates().withColumnRenamed('registration', 'start')\n",
    "    end_ts = df.groupBy('userId').max('ts').withColumnRenamed('max(ts)', 'end')\n",
    "    reg_df = reg_ts.join(end_ts,'userId')\n",
    "    ticks_per_day = 1000 * 60 * 60 * 24 # as the timestamp is in ticks (0.001 seconds)\n",
    "    reg_df = reg_df.select('userId', ((reg_df.end-reg_df.start)/ticks_per_day).alias(col_name))\n",
    "    return reg_df\n",
    "\n",
    "reg_df = days_since_subscription(df, col_name='days_total_subscription')\n",
    "reg_df.show(5)"
   ]
  },
  {
   "cell_type": "code",
   "execution_count": 43,
   "metadata": {},
   "outputs": [
    {
     "name": "stdout",
     "output_type": "stream",
     "text": [
      "+------+----------------------+\n",
      "|userId|days_paid_subscription|\n",
      "+------+----------------------+\n",
      "|200002|     70.07462962962963|\n",
      "|   124|    131.55591435185184|\n",
      "|    51|    19.455844907407407|\n",
      "|    15|    56.513576388888886|\n",
      "|    54|    110.75168981481481|\n",
      "+------+----------------------+\n",
      "only showing top 5 rows\n",
      "\n"
     ]
    }
   ],
   "source": [
    "df_paid = df.filter(df.level=='paid')\n",
    "paid_df = days_since_subscription(df_paid, col_name='days_paid_subscription')\n",
    "paid_df.show(5)"
   ]
  },
  {
   "cell_type": "code",
   "execution_count": 44,
   "metadata": {},
   "outputs": [
    {
     "name": "stdout",
     "output_type": "stream",
     "text": [
      "+------+----------------------+\n",
      "|userId|days_free_subscription|\n",
      "+------+----------------------+\n",
      "|100010|     55.64365740740741|\n",
      "|200002|     41.49415509259259|\n",
      "|   125|     71.31688657407408|\n",
      "|     7|     72.77818287037037|\n",
      "|    54|     96.45179398148149|\n",
      "+------+----------------------+\n",
      "only showing top 5 rows\n",
      "\n"
     ]
    }
   ],
   "source": [
    "df_free = df.filter(df.level=='free')\n",
    "free_df = days_since_subscription(df_free, col_name='days_free_subscription')\n",
    "free_df.show(5)"
   ]
  },
  {
   "cell_type": "code",
   "execution_count": 45,
   "metadata": {},
   "outputs": [
    {
     "name": "stdout",
     "output_type": "stream",
     "text": [
      "+------+------------------+-----------------+\n",
      "|userId|      free_percent|     paid_percent|\n",
      "+------+------------------+-----------------+\n",
      "|200002| 22.48062015503876|77.51937984496125|\n",
      "|100010|             100.0|              0.0|\n",
      "|   125|             100.0|              0.0|\n",
      "|     7|             100.0|              0.0|\n",
      "|   124|               0.0|            100.0|\n",
      "|    51|               0.0|            100.0|\n",
      "|    54|15.452305526223162|84.54769447377683|\n",
      "|    15|               0.0|            100.0|\n",
      "|   155|12.317073170731707| 87.6829268292683|\n",
      "|   132|1.4522821576763485|98.54771784232366|\n",
      "+------+------------------+-----------------+\n",
      "only showing top 10 rows\n",
      "\n"
     ]
    }
   ],
   "source": [
    "paid_free_df = df.filter(df.page=='NextSong').groupBy('userId').pivot('level').count()\n",
    "paid_free_df = paid_free_df.na.fill(0)\n",
    "active_cols = paid_free_df.columns[1:]\n",
    "paid_free_df = paid_free_df.withColumn('total', \n",
    "                                       sum(paid_free_df[col] for col in active_cols))\n",
    "for col in active_cols:\n",
    "    paid_free_df = paid_free_df.withColumn(f'{col}_percent', \n",
    "                                           paid_free_df[col] / paid_free_df.total * 100)\n",
    "active_cols.append('total')    \n",
    "paid_free_df = paid_free_df.drop(*active_cols)\n",
    "paid_free_df.show(10)"
   ]
  },
  {
   "cell_type": "code",
   "execution_count": 46,
   "metadata": {},
   "outputs": [
    {
     "name": "stdout",
     "output_type": "stream",
     "text": [
      "+------+-----------------+\n",
      "|userId|     paid_percent|\n",
      "+------+-----------------+\n",
      "|200002|77.51937984496125|\n",
      "|100010|              0.0|\n",
      "|   125|              0.0|\n",
      "+------+-----------------+\n",
      "only showing top 3 rows\n",
      "\n"
     ]
    }
   ],
   "source": [
    "paid_free_df = paid_free_df.drop('free_percent')\n",
    "paid_free_df.show(3)"
   ]
  },
  {
   "cell_type": "code",
   "execution_count": 47,
   "metadata": {},
   "outputs": [],
   "source": [
    "user_features = [gender_df, os_df, paid_free_df, song_length, \n",
    "                   page_dist, song_user_df, artists_user_fans, \n",
    "                   session_user_df, num_sessions_user_df, reg_df]\n",
    "user_features_names = ['gender_df', 'os_df', 'paid_free_df', 'song_length', \n",
    "                   'page_dist', 'song_user_df', 'artists_user_fans', \n",
    "                   'session_user_df', 'num_sessions_user_df', 'reg_df']"
   ]
  },
  {
   "cell_type": "code",
   "execution_count": 48,
   "metadata": {},
   "outputs": [
    {
     "name": "stdout",
     "output_type": "stream",
     "text": [
      "Preparing features of the gender_df dataframe; the new frame's dimensions is: 225 * 3\n",
      "Preparing features of the os_df dataframe; the new frame's dimensions is: 225 * 12\n",
      "Preparing features of the paid_free_df dataframe; the new frame's dimensions is: 225 * 13\n",
      "Preparing features of the song_length dataframe; the new frame's dimensions is: 225 * 15\n",
      "Preparing features of the page_dist dataframe; the new frame's dimensions is: 225 * 32\n",
      "Preparing features of the song_user_df dataframe; the new frame's dimensions is: 225 * 34\n",
      "Preparing features of the artists_user_fans dataframe; the new frame's dimensions is: 225 * 35\n",
      "Preparing features of the session_user_df dataframe; the new frame's dimensions is: 225 * 37\n",
      "Preparing features of the num_sessions_user_df dataframe; the new frame's dimensions is: 225 * 38\n",
      "Preparing features of the reg_df dataframe; the new frame's dimensions is: 225 * 39\n",
      "Finished\n"
     ]
    }
   ],
   "source": [
    "final_df = churn_df\n",
    "\n",
    "def join_features(base, new):\n",
    "    df_to_join = new\n",
    "    base = base.join(df_to_join, 'userId', how='inner')\n",
    "    return base.dropDuplicates()\n",
    "\n",
    "for i, feature in enumerate(user_features):\n",
    "    print(f'Preparing features of the {user_features_names[i]} dataframe', end='; ')\n",
    "    final_df = join_features(final_df, feature)\n",
    "    print (f\"the new frame's dimensions is: {final_df.count()} * {len(final_df.columns)}\")\n",
    "final_df = final_df.orderBy('userId', ascending=True)\n",
    "print('Finished')"
   ]
  },
  {
   "cell_type": "code",
   "execution_count": 50,
   "metadata": {},
   "outputs": [],
   "source": [
    "final_df.write.save('clean_dataset.csv', format='csv', header=True)"
   ]
  },
  {
   "cell_type": "code",
   "execution_count": 51,
   "metadata": {},
   "outputs": [
    {
     "data": {
      "text/html": [
       "<div>\n",
       "<style scoped>\n",
       "    .dataframe tbody tr th:only-of-type {\n",
       "        vertical-align: middle;\n",
       "    }\n",
       "\n",
       "    .dataframe tbody tr th {\n",
       "        vertical-align: top;\n",
       "    }\n",
       "\n",
       "    .dataframe thead th {\n",
       "        text-align: right;\n",
       "    }\n",
       "</style>\n",
       "<table border=\"1\" class=\"dataframe\">\n",
       "  <thead>\n",
       "    <tr style=\"text-align: right;\">\n",
       "      <th></th>\n",
       "      <th>userId</th>\n",
       "      <th>churn</th>\n",
       "      <th>gender</th>\n",
       "      <th>OS_iPad</th>\n",
       "      <th>OS_iPhone</th>\n",
       "      <th>OS_Windows 8.1</th>\n",
       "      <th>OS_Linux</th>\n",
       "      <th>OS_Windows Vista</th>\n",
       "      <th>OS_Windows 8.0</th>\n",
       "      <th>OS_MacOS</th>\n",
       "      <th>...</th>\n",
       "      <th>Thumbs Down</th>\n",
       "      <th>Thumbs Up</th>\n",
       "      <th>Upgrade</th>\n",
       "      <th>mean_songs</th>\n",
       "      <th>stdev_songs</th>\n",
       "      <th>num_aritst</th>\n",
       "      <th>mean_session_h</th>\n",
       "      <th>stdev_session_h</th>\n",
       "      <th>num_sessions</th>\n",
       "      <th>days_total_subscription</th>\n",
       "    </tr>\n",
       "  </thead>\n",
       "  <tbody>\n",
       "    <tr>\n",
       "      <th>0</th>\n",
       "      <td>10</td>\n",
       "      <td>0</td>\n",
       "      <td>1</td>\n",
       "      <td>0</td>\n",
       "      <td>0</td>\n",
       "      <td>0</td>\n",
       "      <td>0</td>\n",
       "      <td>0</td>\n",
       "      <td>0</td>\n",
       "      <td>1</td>\n",
       "      <td>...</td>\n",
       "      <td>0.503145</td>\n",
       "      <td>4.654088</td>\n",
       "      <td>0.000000</td>\n",
       "      <td>112.166667</td>\n",
       "      <td>133.324291</td>\n",
       "      <td>566</td>\n",
       "      <td>7.662454</td>\n",
       "      <td>8.991061</td>\n",
       "      <td>6</td>\n",
       "      <td>51.762650</td>\n",
       "    </tr>\n",
       "    <tr>\n",
       "      <th>1</th>\n",
       "      <td>100</td>\n",
       "      <td>0</td>\n",
       "      <td>1</td>\n",
       "      <td>0</td>\n",
       "      <td>0</td>\n",
       "      <td>0</td>\n",
       "      <td>0</td>\n",
       "      <td>0</td>\n",
       "      <td>0</td>\n",
       "      <td>0</td>\n",
       "      <td>...</td>\n",
       "      <td>0.840075</td>\n",
       "      <td>4.604854</td>\n",
       "      <td>0.031114</td>\n",
       "      <td>78.882353</td>\n",
       "      <td>74.057621</td>\n",
       "      <td>1706</td>\n",
       "      <td>5.275317</td>\n",
       "      <td>5.133618</td>\n",
       "      <td>35</td>\n",
       "      <td>64.873773</td>\n",
       "    </tr>\n",
       "    <tr>\n",
       "      <th>2</th>\n",
       "      <td>100001</td>\n",
       "      <td>1</td>\n",
       "      <td>0</td>\n",
       "      <td>0</td>\n",
       "      <td>0</td>\n",
       "      <td>0</td>\n",
       "      <td>0</td>\n",
       "      <td>0</td>\n",
       "      <td>0</td>\n",
       "      <td>1</td>\n",
       "      <td>...</td>\n",
       "      <td>1.081081</td>\n",
       "      <td>4.324324</td>\n",
       "      <td>1.081081</td>\n",
       "      <td>33.250000</td>\n",
       "      <td>16.839933</td>\n",
       "      <td>126</td>\n",
       "      <td>2.469306</td>\n",
       "      <td>1.051126</td>\n",
       "      <td>4</td>\n",
       "      <td>44.800220</td>\n",
       "    </tr>\n",
       "    <tr>\n",
       "      <th>3</th>\n",
       "      <td>100002</td>\n",
       "      <td>0</td>\n",
       "      <td>0</td>\n",
       "      <td>0</td>\n",
       "      <td>0</td>\n",
       "      <td>0</td>\n",
       "      <td>0</td>\n",
       "      <td>0</td>\n",
       "      <td>0</td>\n",
       "      <td>0</td>\n",
       "      <td>...</td>\n",
       "      <td>0.000000</td>\n",
       "      <td>2.293578</td>\n",
       "      <td>0.000000</td>\n",
       "      <td>48.750000</td>\n",
       "      <td>84.428964</td>\n",
       "      <td>185</td>\n",
       "      <td>3.353056</td>\n",
       "      <td>5.901765</td>\n",
       "      <td>4</td>\n",
       "      <td>160.472072</td>\n",
       "    </tr>\n",
       "    <tr>\n",
       "      <th>4</th>\n",
       "      <td>100003</td>\n",
       "      <td>1</td>\n",
       "      <td>0</td>\n",
       "      <td>0</td>\n",
       "      <td>0</td>\n",
       "      <td>0</td>\n",
       "      <td>0</td>\n",
       "      <td>0</td>\n",
       "      <td>0</td>\n",
       "      <td>0</td>\n",
       "      <td>...</td>\n",
       "      <td>0.000000</td>\n",
       "      <td>3.947368</td>\n",
       "      <td>0.000000</td>\n",
       "      <td>25.500000</td>\n",
       "      <td>33.234019</td>\n",
       "      <td>51</td>\n",
       "      <td>1.651944</td>\n",
       "      <td>2.260385</td>\n",
       "      <td>2</td>\n",
       "      <td>22.748113</td>\n",
       "    </tr>\n",
       "    <tr>\n",
       "      <th>5</th>\n",
       "      <td>100004</td>\n",
       "      <td>0</td>\n",
       "      <td>0</td>\n",
       "      <td>0</td>\n",
       "      <td>0</td>\n",
       "      <td>0</td>\n",
       "      <td>0</td>\n",
       "      <td>0</td>\n",
       "      <td>0</td>\n",
       "      <td>0</td>\n",
       "      <td>...</td>\n",
       "      <td>0.883534</td>\n",
       "      <td>2.811245</td>\n",
       "      <td>0.642570</td>\n",
       "      <td>47.100000</td>\n",
       "      <td>55.459706</td>\n",
       "      <td>734</td>\n",
       "      <td>3.099775</td>\n",
       "      <td>3.895202</td>\n",
       "      <td>21</td>\n",
       "      <td>172.440081</td>\n",
       "    </tr>\n",
       "    <tr>\n",
       "      <th>6</th>\n",
       "      <td>100005</td>\n",
       "      <td>1</td>\n",
       "      <td>1</td>\n",
       "      <td>0</td>\n",
       "      <td>0</td>\n",
       "      <td>0</td>\n",
       "      <td>0</td>\n",
       "      <td>0</td>\n",
       "      <td>0</td>\n",
       "      <td>1</td>\n",
       "      <td>...</td>\n",
       "      <td>1.401869</td>\n",
       "      <td>3.271028</td>\n",
       "      <td>1.869159</td>\n",
       "      <td>38.500000</td>\n",
       "      <td>13.771952</td>\n",
       "      <td>150</td>\n",
       "      <td>2.003111</td>\n",
       "      <td>1.367039</td>\n",
       "      <td>5</td>\n",
       "      <td>85.195590</td>\n",
       "    </tr>\n",
       "    <tr>\n",
       "      <th>7</th>\n",
       "      <td>100006</td>\n",
       "      <td>1</td>\n",
       "      <td>0</td>\n",
       "      <td>0</td>\n",
       "      <td>0</td>\n",
       "      <td>1</td>\n",
       "      <td>0</td>\n",
       "      <td>0</td>\n",
       "      <td>0</td>\n",
       "      <td>0</td>\n",
       "      <td>...</td>\n",
       "      <td>4.761905</td>\n",
       "      <td>4.761905</td>\n",
       "      <td>0.000000</td>\n",
       "      <td>26.000000</td>\n",
       "      <td>0.000000</td>\n",
       "      <td>27</td>\n",
       "      <td>1.557222</td>\n",
       "      <td>0.000000</td>\n",
       "      <td>1</td>\n",
       "      <td>9.127164</td>\n",
       "    </tr>\n",
       "    <tr>\n",
       "      <th>8</th>\n",
       "      <td>100007</td>\n",
       "      <td>1</td>\n",
       "      <td>0</td>\n",
       "      <td>0</td>\n",
       "      <td>0</td>\n",
       "      <td>1</td>\n",
       "      <td>0</td>\n",
       "      <td>0</td>\n",
       "      <td>0</td>\n",
       "      <td>0</td>\n",
       "      <td>...</td>\n",
       "      <td>1.158301</td>\n",
       "      <td>3.667954</td>\n",
       "      <td>0.000000</td>\n",
       "      <td>47.000000</td>\n",
       "      <td>55.366958</td>\n",
       "      <td>358</td>\n",
       "      <td>3.156852</td>\n",
       "      <td>3.789902</td>\n",
       "      <td>9</td>\n",
       "      <td>115.387616</td>\n",
       "    </tr>\n",
       "    <tr>\n",
       "      <th>9</th>\n",
       "      <td>100008</td>\n",
       "      <td>0</td>\n",
       "      <td>0</td>\n",
       "      <td>0</td>\n",
       "      <td>0</td>\n",
       "      <td>0</td>\n",
       "      <td>0</td>\n",
       "      <td>0</td>\n",
       "      <td>0</td>\n",
       "      <td>1</td>\n",
       "      <td>...</td>\n",
       "      <td>0.638298</td>\n",
       "      <td>3.936170</td>\n",
       "      <td>0.425532</td>\n",
       "      <td>128.666667</td>\n",
       "      <td>182.128160</td>\n",
       "      <td>624</td>\n",
       "      <td>8.804213</td>\n",
       "      <td>12.541217</td>\n",
       "      <td>6</td>\n",
       "      <td>68.228565</td>\n",
       "    </tr>\n",
       "  </tbody>\n",
       "</table>\n",
       "<p>10 rows × 39 columns</p>\n",
       "</div>"
      ],
      "text/plain": [
       "   userId  churn  gender  OS_iPad  OS_iPhone  OS_Windows 8.1  OS_Linux  \\\n",
       "0      10      0       1        0          0               0         0   \n",
       "1     100      0       1        0          0               0         0   \n",
       "2  100001      1       0        0          0               0         0   \n",
       "3  100002      0       0        0          0               0         0   \n",
       "4  100003      1       0        0          0               0         0   \n",
       "5  100004      0       0        0          0               0         0   \n",
       "6  100005      1       1        0          0               0         0   \n",
       "7  100006      1       0        0          0               1         0   \n",
       "8  100007      1       0        0          0               1         0   \n",
       "9  100008      0       0        0          0               0         0   \n",
       "\n",
       "   OS_Windows Vista  OS_Windows 8.0  OS_MacOS           ...             \\\n",
       "0                 0               0         1           ...              \n",
       "1                 0               0         0           ...              \n",
       "2                 0               0         1           ...              \n",
       "3                 0               0         0           ...              \n",
       "4                 0               0         0           ...              \n",
       "5                 0               0         0           ...              \n",
       "6                 0               0         1           ...              \n",
       "7                 0               0         0           ...              \n",
       "8                 0               0         0           ...              \n",
       "9                 0               0         1           ...              \n",
       "\n",
       "   Thumbs Down  Thumbs Up   Upgrade  mean_songs  stdev_songs  num_aritst  \\\n",
       "0     0.503145   4.654088  0.000000  112.166667   133.324291         566   \n",
       "1     0.840075   4.604854  0.031114   78.882353    74.057621        1706   \n",
       "2     1.081081   4.324324  1.081081   33.250000    16.839933         126   \n",
       "3     0.000000   2.293578  0.000000   48.750000    84.428964         185   \n",
       "4     0.000000   3.947368  0.000000   25.500000    33.234019          51   \n",
       "5     0.883534   2.811245  0.642570   47.100000    55.459706         734   \n",
       "6     1.401869   3.271028  1.869159   38.500000    13.771952         150   \n",
       "7     4.761905   4.761905  0.000000   26.000000     0.000000          27   \n",
       "8     1.158301   3.667954  0.000000   47.000000    55.366958         358   \n",
       "9     0.638298   3.936170  0.425532  128.666667   182.128160         624   \n",
       "\n",
       "   mean_session_h  stdev_session_h  num_sessions  days_total_subscription  \n",
       "0        7.662454         8.991061             6                51.762650  \n",
       "1        5.275317         5.133618            35                64.873773  \n",
       "2        2.469306         1.051126             4                44.800220  \n",
       "3        3.353056         5.901765             4               160.472072  \n",
       "4        1.651944         2.260385             2                22.748113  \n",
       "5        3.099775         3.895202            21               172.440081  \n",
       "6        2.003111         1.367039             5                85.195590  \n",
       "7        1.557222         0.000000             1                 9.127164  \n",
       "8        3.156852         3.789902             9               115.387616  \n",
       "9        8.804213        12.541217             6                68.228565  \n",
       "\n",
       "[10 rows x 39 columns]"
      ]
     },
     "execution_count": 51,
     "metadata": {},
     "output_type": "execute_result"
    }
   ],
   "source": [
    "final_dfp = final_df.toPandas()\n",
    "final_dfp.head(10)"
   ]
  },
  {
   "cell_type": "code",
   "execution_count": 52,
   "metadata": {},
   "outputs": [],
   "source": [
    "final_dfp.to_csv('clean_dataset_pandas.CSV', index=False)"
   ]
  },
  {
   "cell_type": "markdown",
   "metadata": {},
   "source": [
    "# Modeling\n",
    "Split the full dataset into train, test, and validation sets. Test out several of the machine learning methods you learned. Evaluate the accuracy of the various models, tuning parameters as necessary. Determine your winning model based on test accuracy and report results on the validation set. Since the churned users are a fairly small subset, I suggest using F1 score as the metric to optimize."
   ]
  },
  {
   "cell_type": "markdown",
   "metadata": {},
   "source": [
    "### Model Evaluation Discussion\n",
    "\n",
    "This would be a good time to discuss our evaluation metrics and the motivation behind choosing the metrics. We will use the following metrics:\n",
    "1. Accuracy\n",
    "2. Precision\n",
    "3. Recall\n",
    "4. F1 score\n",
    "\n",
    "The reason for accuracy is because it is the most direct way of telling us if our model is better than randomly guessing, and by how much.\n",
    "\n",
    "Precision and Recall are important metrics because we want to minimize the amount of mis-classified cases as much as possible. To further elaborate on this take this example: If Sparkify needs to convince a churn-prone user to not cancelling their subscription it would likely require some sort of associated cost. Sparkify would probably like to not incur any additional cost for users that are not about to churn. On the other side of the scenarios, Sparkify would also like to be able to properly identify any churn-prone users as to not lose their business.\n",
    "\n",
    "F1 Score is also important because it's a measure of accuracy that is dependent on the model's performance on the precision and recall metrics. For example, if a model's accuracy is 80%, but has a Precision of 1.0 and Recall of 0.5, the F1 score is going to show us that despire 80% accuracy, the model is underperforming on one (or both) type of classification.\n",
    "\n",
    "With that out of the way, we can continue on to the modelling portion"
   ]
  },
  {
   "cell_type": "markdown",
   "metadata": {},
   "source": [
    "Since we went through the effort of saving out data set after building it, we can use the load function to load it here for modelling:"
   ]
  },
  {
   "cell_type": "code",
   "execution_count": 55,
   "metadata": {},
   "outputs": [
    {
     "data": {
      "text/html": [
       "<div>\n",
       "<style scoped>\n",
       "    .dataframe tbody tr th:only-of-type {\n",
       "        vertical-align: middle;\n",
       "    }\n",
       "\n",
       "    .dataframe tbody tr th {\n",
       "        vertical-align: top;\n",
       "    }\n",
       "\n",
       "    .dataframe thead th {\n",
       "        text-align: right;\n",
       "    }\n",
       "</style>\n",
       "<table border=\"1\" class=\"dataframe\">\n",
       "  <thead>\n",
       "    <tr style=\"text-align: right;\">\n",
       "      <th></th>\n",
       "      <th>userId</th>\n",
       "      <th>churn</th>\n",
       "      <th>gender</th>\n",
       "      <th>OS_iPad</th>\n",
       "      <th>OS_iPhone</th>\n",
       "      <th>OS_Windows 8.1</th>\n",
       "      <th>OS_Linux</th>\n",
       "      <th>OS_Windows Vista</th>\n",
       "      <th>OS_Windows 8.0</th>\n",
       "      <th>OS_MacOS</th>\n",
       "      <th>...</th>\n",
       "      <th>Thumbs Down</th>\n",
       "      <th>Thumbs Up</th>\n",
       "      <th>Upgrade</th>\n",
       "      <th>mean_songs</th>\n",
       "      <th>stdev_songs</th>\n",
       "      <th>num_aritst</th>\n",
       "      <th>mean_session_h</th>\n",
       "      <th>stdev_session_h</th>\n",
       "      <th>num_sessions</th>\n",
       "      <th>days_total_subscription</th>\n",
       "    </tr>\n",
       "  </thead>\n",
       "  <tbody>\n",
       "    <tr>\n",
       "      <th>0</th>\n",
       "      <td>30</td>\n",
       "      <td>0</td>\n",
       "      <td>1</td>\n",
       "      <td>0</td>\n",
       "      <td>0</td>\n",
       "      <td>0</td>\n",
       "      <td>0</td>\n",
       "      <td>0</td>\n",
       "      <td>0</td>\n",
       "      <td>0</td>\n",
       "      <td>...</td>\n",
       "      <td>0.9577464788732395</td>\n",
       "      <td>3.492957746478873</td>\n",
       "      <td>0.7887323943661971</td>\n",
       "      <td>50.607142857142854</td>\n",
       "      <td>68.92579976333879</td>\n",
       "      <td>1019</td>\n",
       "      <td>3.0599045138888887</td>\n",
       "      <td>4.655638231407505</td>\n",
       "      <td>32</td>\n",
       "      <td>63.06664351851852</td>\n",
       "    </tr>\n",
       "    <tr>\n",
       "      <th>1</th>\n",
       "      <td>300001</td>\n",
       "      <td>1</td>\n",
       "      <td>0</td>\n",
       "      <td>0</td>\n",
       "      <td>0</td>\n",
       "      <td>0</td>\n",
       "      <td>0</td>\n",
       "      <td>0</td>\n",
       "      <td>0</td>\n",
       "      <td>0</td>\n",
       "      <td>...</td>\n",
       "      <td>0.7848568790397045</td>\n",
       "      <td>6.832871652816251</td>\n",
       "      <td>0.09233610341643582</td>\n",
       "      <td>102.88235294117646</td>\n",
       "      <td>88.12908313444346</td>\n",
       "      <td>1202</td>\n",
       "      <td>6.367543859649123</td>\n",
       "      <td>6.150871757879998</td>\n",
       "      <td>19</td>\n",
       "      <td>188.3117824074074</td>\n",
       "    </tr>\n",
       "    <tr>\n",
       "      <th>2</th>\n",
       "      <td>91</td>\n",
       "      <td>0</td>\n",
       "      <td>1</td>\n",
       "      <td>0</td>\n",
       "      <td>0</td>\n",
       "      <td>1</td>\n",
       "      <td>0</td>\n",
       "      <td>0</td>\n",
       "      <td>0</td>\n",
       "      <td>0</td>\n",
       "      <td>...</td>\n",
       "      <td>0.7962840079628402</td>\n",
       "      <td>4.11413404114134</td>\n",
       "      <td>0.033178500331785</td>\n",
       "      <td>286.6666666666667</td>\n",
       "      <td>337.84426885770904</td>\n",
       "      <td>1619</td>\n",
       "      <td>19.665</td>\n",
       "      <td>23.019357929090734</td>\n",
       "      <td>9</td>\n",
       "      <td>116.02526620370371</td>\n",
       "    </tr>\n",
       "    <tr>\n",
       "      <th>3</th>\n",
       "      <td>92</td>\n",
       "      <td>0</td>\n",
       "      <td>0</td>\n",
       "      <td>1</td>\n",
       "      <td>0</td>\n",
       "      <td>0</td>\n",
       "      <td>0</td>\n",
       "      <td>0</td>\n",
       "      <td>0</td>\n",
       "      <td>0</td>\n",
       "      <td>...</td>\n",
       "      <td>0.9958506224066389</td>\n",
       "      <td>4.0387275242047025</td>\n",
       "      <td>0.06915629322268327</td>\n",
       "      <td>70.77380952380952</td>\n",
       "      <td>86.9796197137792</td>\n",
       "      <td>2905</td>\n",
       "      <td>4.745203488372092</td>\n",
       "      <td>6.054084867345142</td>\n",
       "      <td>86</td>\n",
       "      <td>83.52885416666666</td>\n",
       "    </tr>\n",
       "    <tr>\n",
       "      <th>4</th>\n",
       "      <td>200008</td>\n",
       "      <td>0</td>\n",
       "      <td>0</td>\n",
       "      <td>0</td>\n",
       "      <td>0</td>\n",
       "      <td>0</td>\n",
       "      <td>0</td>\n",
       "      <td>0</td>\n",
       "      <td>0</td>\n",
       "      <td>0</td>\n",
       "      <td>...</td>\n",
       "      <td>2.584493041749503</td>\n",
       "      <td>3.3797216699801194</td>\n",
       "      <td>0.049701789264413515</td>\n",
       "      <td>111.26666666666667</td>\n",
       "      <td>107.38613016763829</td>\n",
       "      <td>1160</td>\n",
       "      <td>7.5379259259259275</td>\n",
       "      <td>7.284556907097743</td>\n",
       "      <td>15</td>\n",
       "      <td>115.18381944444444</td>\n",
       "    </tr>\n",
       "  </tbody>\n",
       "</table>\n",
       "<p>5 rows × 39 columns</p>\n",
       "</div>"
      ],
      "text/plain": [
       "   userId churn gender OS_iPad OS_iPhone OS_Windows 8.1 OS_Linux  \\\n",
       "0      30     0      1       0         0              0        0   \n",
       "1  300001     1      0       0         0              0        0   \n",
       "2      91     0      1       0         0              1        0   \n",
       "3      92     0      0       1         0              0        0   \n",
       "4  200008     0      0       0         0              0        0   \n",
       "\n",
       "  OS_Windows Vista OS_Windows 8.0 OS_MacOS           ...            \\\n",
       "0                0              0        0           ...             \n",
       "1                0              0        0           ...             \n",
       "2                0              0        0           ...             \n",
       "3                0              0        0           ...             \n",
       "4                0              0        0           ...             \n",
       "\n",
       "          Thumbs Down           Thumbs Up               Upgrade  \\\n",
       "0  0.9577464788732395   3.492957746478873    0.7887323943661971   \n",
       "1  0.7848568790397045   6.832871652816251   0.09233610341643582   \n",
       "2  0.7962840079628402    4.11413404114134     0.033178500331785   \n",
       "3  0.9958506224066389  4.0387275242047025   0.06915629322268327   \n",
       "4   2.584493041749503  3.3797216699801194  0.049701789264413515   \n",
       "\n",
       "           mean_songs         stdev_songs num_aritst      mean_session_h  \\\n",
       "0  50.607142857142854   68.92579976333879       1019  3.0599045138888887   \n",
       "1  102.88235294117646   88.12908313444346       1202   6.367543859649123   \n",
       "2   286.6666666666667  337.84426885770904       1619              19.665   \n",
       "3   70.77380952380952    86.9796197137792       2905   4.745203488372092   \n",
       "4  111.26666666666667  107.38613016763829       1160  7.5379259259259275   \n",
       "\n",
       "      stdev_session_h num_sessions days_total_subscription  \n",
       "0   4.655638231407505           32       63.06664351851852  \n",
       "1   6.150871757879998           19       188.3117824074074  \n",
       "2  23.019357929090734            9      116.02526620370371  \n",
       "3   6.054084867345142           86       83.52885416666666  \n",
       "4   7.284556907097743           15      115.18381944444444  \n",
       "\n",
       "[5 rows x 39 columns]"
      ]
     },
     "execution_count": 55,
     "metadata": {},
     "output_type": "execute_result"
    }
   ],
   "source": [
    "modelling_df = spark.read.csv('clean_dataset.csv', header=True)\n",
    "modelling_df_pandas = modelling_df.toPandas()\n",
    "\n",
    "modelling_df_pandas.head()"
   ]
  },
  {
   "cell_type": "code",
   "execution_count": 56,
   "metadata": {},
   "outputs": [
    {
     "name": "stdout",
     "output_type": "stream",
     "text": [
      "root\n",
      " |-- userId: string (nullable = true)\n",
      " |-- churn: string (nullable = true)\n",
      " |-- gender: string (nullable = true)\n",
      " |-- OS_iPad: string (nullable = true)\n",
      " |-- OS_iPhone: string (nullable = true)\n",
      " |-- OS_Windows 8.1: string (nullable = true)\n",
      " |-- OS_Linux: string (nullable = true)\n",
      " |-- OS_Windows Vista: string (nullable = true)\n",
      " |-- OS_Windows 8.0: string (nullable = true)\n",
      " |-- OS_MacOS: string (nullable = true)\n",
      " |-- OS_Windows XP: string (nullable = true)\n",
      " |-- OS_Windows 7: string (nullable = true)\n",
      " |-- paid_percent: string (nullable = true)\n",
      " |-- mean_hours: string (nullable = true)\n",
      " |-- stdev_hours: string (nullable = true)\n",
      " |-- About: string (nullable = true)\n",
      " |-- Add Friend: string (nullable = true)\n",
      " |-- Add to Playlist: string (nullable = true)\n",
      " |-- Downgrade: string (nullable = true)\n",
      " |-- Error: string (nullable = true)\n",
      " |-- Help: string (nullable = true)\n",
      " |-- Home: string (nullable = true)\n",
      " |-- Logout: string (nullable = true)\n",
      " |-- NextSong: string (nullable = true)\n",
      " |-- Roll Advert: string (nullable = true)\n",
      " |-- Save Settings: string (nullable = true)\n",
      " |-- Settings: string (nullable = true)\n",
      " |-- Submit Downgrade: string (nullable = true)\n",
      " |-- Submit Upgrade: string (nullable = true)\n",
      " |-- Thumbs Down: string (nullable = true)\n",
      " |-- Thumbs Up: string (nullable = true)\n",
      " |-- Upgrade: string (nullable = true)\n",
      " |-- mean_songs: string (nullable = true)\n",
      " |-- stdev_songs: string (nullable = true)\n",
      " |-- num_aritst: string (nullable = true)\n",
      " |-- mean_session_h: string (nullable = true)\n",
      " |-- stdev_session_h: string (nullable = true)\n",
      " |-- num_sessions: string (nullable = true)\n",
      " |-- days_total_subscription: string (nullable = true)\n",
      "\n"
     ]
    }
   ],
   "source": [
    "modelling_df.printSchema()"
   ]
  },
  {
   "cell_type": "markdown",
   "metadata": {},
   "source": [
    "Since having spaces in column names is a little inconvenient for us, let's replace the spaces with underscores:"
   ]
  },
  {
   "cell_type": "code",
   "execution_count": 57,
   "metadata": {},
   "outputs": [],
   "source": [
    "for col in modelling_df.columns:\n",
    "    modelling_df = modelling_df.withColumnRenamed(col, col.replace(' ', '_').replace('.', ''))"
   ]
  },
  {
   "cell_type": "code",
   "execution_count": 58,
   "metadata": {},
   "outputs": [
    {
     "name": "stdout",
     "output_type": "stream",
     "text": [
      "['userId', 'churn', 'gender', 'OS_iPad', 'OS_iPhone', 'OS_Windows_81', 'OS_Linux', 'OS_Windows_Vista', 'OS_Windows_80', 'OS_MacOS', 'OS_Windows_XP', 'OS_Windows_7', 'paid_percent', 'mean_hours', 'stdev_hours', 'About', 'Add_Friend', 'Add_to_Playlist', 'Downgrade', 'Error', 'Help', 'Home', 'Logout', 'NextSong', 'Roll_Advert', 'Save_Settings', 'Settings', 'Submit_Downgrade', 'Submit_Upgrade', 'Thumbs_Down', 'Thumbs_Up', 'Upgrade', 'mean_songs', 'stdev_songs', 'num_aritst', 'mean_session_h', 'stdev_session_h', 'num_sessions', 'days_total_subscription']\n"
     ]
    }
   ],
   "source": [
    "print(modelling_df.columns)"
   ]
  },
  {
   "cell_type": "markdown",
   "metadata": {},
   "source": [
    "We also need to make sure that all the column types are consistent. The schema shows that basically all the columns that should be either int or float are string type. Let's fix that:"
   ]
  },
  {
   "cell_type": "code",
   "execution_count": 59,
   "metadata": {},
   "outputs": [],
   "source": [
    "# userId\n",
    "modelling_df = modelling_df.withColumn('userId', modelling_df.userId.cast(sT.IntegerType()))\n",
    "\n",
    "# from Churn to OS-type columns should be integers:\n",
    "for col in modelling_df.columns[1:12]:\n",
    "    modelling_df = modelling_df.withColumn(col, modelling_df[col].cast(sT.IntegerType()))\n",
    "\n",
    "# the remaining columns should be floats:\n",
    "for col in modelling_df.columns[12:]:\n",
    "    modelling_df = modelling_df.withColumn(col, modelling_df[col].cast(sT.FloatType()))"
   ]
  },
  {
   "cell_type": "code",
   "execution_count": 60,
   "metadata": {},
   "outputs": [
    {
     "name": "stdout",
     "output_type": "stream",
     "text": [
      "root\n",
      " |-- userId: integer (nullable = true)\n",
      " |-- churn: integer (nullable = true)\n",
      " |-- gender: integer (nullable = true)\n",
      " |-- OS_iPad: integer (nullable = true)\n",
      " |-- OS_iPhone: integer (nullable = true)\n",
      " |-- OS_Windows_81: integer (nullable = true)\n",
      " |-- OS_Linux: integer (nullable = true)\n",
      " |-- OS_Windows_Vista: integer (nullable = true)\n",
      " |-- OS_Windows_80: integer (nullable = true)\n",
      " |-- OS_MacOS: integer (nullable = true)\n",
      " |-- OS_Windows_XP: integer (nullable = true)\n",
      " |-- OS_Windows_7: integer (nullable = true)\n",
      " |-- paid_percent: float (nullable = true)\n",
      " |-- mean_hours: float (nullable = true)\n",
      " |-- stdev_hours: float (nullable = true)\n",
      " |-- About: float (nullable = true)\n",
      " |-- Add_Friend: float (nullable = true)\n",
      " |-- Add_to_Playlist: float (nullable = true)\n",
      " |-- Downgrade: float (nullable = true)\n",
      " |-- Error: float (nullable = true)\n",
      " |-- Help: float (nullable = true)\n",
      " |-- Home: float (nullable = true)\n",
      " |-- Logout: float (nullable = true)\n",
      " |-- NextSong: float (nullable = true)\n",
      " |-- Roll_Advert: float (nullable = true)\n",
      " |-- Save_Settings: float (nullable = true)\n",
      " |-- Settings: float (nullable = true)\n",
      " |-- Submit_Downgrade: float (nullable = true)\n",
      " |-- Submit_Upgrade: float (nullable = true)\n",
      " |-- Thumbs_Down: float (nullable = true)\n",
      " |-- Thumbs_Up: float (nullable = true)\n",
      " |-- Upgrade: float (nullable = true)\n",
      " |-- mean_songs: float (nullable = true)\n",
      " |-- stdev_songs: float (nullable = true)\n",
      " |-- num_aritst: float (nullable = true)\n",
      " |-- mean_session_h: float (nullable = true)\n",
      " |-- stdev_session_h: float (nullable = true)\n",
      " |-- num_sessions: float (nullable = true)\n",
      " |-- days_total_subscription: float (nullable = true)\n",
      "\n"
     ]
    }
   ],
   "source": [
    "# check to see if conversion was successful\n",
    "modelling_df.printSchema()"
   ]
  },
  {
   "cell_type": "code",
   "execution_count": 61,
   "metadata": {},
   "outputs": [],
   "source": [
    "# fill nulls\n",
    "modelling_df = modelling_df.fillna(0)"
   ]
  },
  {
   "cell_type": "code",
   "execution_count": 62,
   "metadata": {},
   "outputs": [],
   "source": [
    "# saving labels\n",
    "\n",
    "# the reason we start from the 3rd column is because 0 is userid (which we can't use)\n",
    "# and the 1 churn (our target variable)\n",
    "feat_lab = modelling_df.columns[2:]"
   ]
  },
  {
   "cell_type": "code",
   "execution_count": 63,
   "metadata": {},
   "outputs": [],
   "source": [
    "# vectorization of our data\n",
    "\n",
    "feat_vec = VectorAssembler(inputCols=modelling_df.columns[2:], outputCol='features')\n",
    "\n",
    "input_data = feat_vec.transform(modelling_df)"
   ]
  },
  {
   "cell_type": "code",
   "execution_count": 64,
   "metadata": {},
   "outputs": [
    {
     "name": "stdout",
     "output_type": "stream",
     "text": [
      "+------+-----+------+-------+---------+-------------+--------+----------------+-------------+--------+-------------+------------+------------+----------+-----------+----------+----------+---------------+----------+-----------+----------+--------+---------+---------+-----------+-------------+----------+----------------+--------------+-----------+---------+---------+----------+-----------+----------+--------------+---------------+------------+-----------------------+--------------------+\n",
      "|userId|churn|gender|OS_iPad|OS_iPhone|OS_Windows_81|OS_Linux|OS_Windows_Vista|OS_Windows_80|OS_MacOS|OS_Windows_XP|OS_Windows_7|paid_percent|mean_hours|stdev_hours|     About|Add_Friend|Add_to_Playlist| Downgrade|      Error|      Help|    Home|   Logout| NextSong|Roll_Advert|Save_Settings|  Settings|Submit_Downgrade|Submit_Upgrade|Thumbs_Down|Thumbs_Up|  Upgrade|mean_songs|stdev_songs|num_aritst|mean_session_h|stdev_session_h|num_sessions|days_total_subscription|            features|\n",
      "+------+-----+------+-------+---------+-------------+--------+----------------+-------------+--------+-------------+------------+------------+----------+-----------+----------+----------+---------------+----------+-----------+----------+--------+---------+---------+-----------+-------------+----------+----------------+--------------+-----------+---------+---------+----------+-----------+----------+--------------+---------------+------------+-----------------------+--------------------+\n",
      "|    30|    0|     1|      0|        0|            0|       0|               0|            0|       0|            0|           1|   40.578686| 3.5695262|  4.8285117|0.16901408| 1.4084507|      2.6478872|0.33802816|0.056338027|0.28169015|3.943662|1.1267606|79.830986|   4.056338|  0.056338027|0.73239434|     0.056338027|   0.056338027|  0.9577465|3.4929578|0.7887324| 50.607143|    68.9258|    1019.0|     3.0599046|       4.655638|        32.0|              63.066643|[1.0,0.0,0.0,0.0,...|\n",
      "|300001|    1|     0|      0|        0|            0|       0|               0|            0|       0|            1|           0|   96.054886|   7.08366|  6.0337453|0.04616805| 1.3850416|      3.1855955|0.41551247| 0.13850416|0.50784856|3.601108|1.0156971|80.747925| 0.27700832|   0.13850416|0.78485686|             0.0|    0.04616805| 0.78485686|6.8328714|0.0923361|102.882355|   88.12908|    1202.0|     6.3675437|      6.1508718|        19.0|              188.31178|[0.0,0.0,0.0,0.0,...|\n",
      "|    91|    0|     1|      0|        0|            1|       0|               0|            0|       0|            0|           0|    95.15504| 19.746496|  23.043531| 0.1658925|  1.393497|       2.123424|  0.729927|  0.0995355|0.29860651|2.986065|1.0285335| 85.60053|  0.1658925|    0.0331785|  0.398142|             0.0|     0.0331785|   0.796284| 4.114134|0.0331785| 286.66666|  337.84427|    1619.0|        19.665|      23.019358|         9.0|              116.02527|[1.0,0.0,0.0,1.0,...|\n",
      "+------+-----+------+-------+---------+-------------+--------+----------------+-------------+--------+-------------+------------+------------+----------+-----------+----------+----------+---------------+----------+-----------+----------+--------+---------+---------+-----------+-------------+----------+----------------+--------------+-----------+---------+---------+----------+-----------+----------+--------------+---------------+------------+-----------------------+--------------------+\n",
      "only showing top 3 rows\n",
      "\n"
     ]
    }
   ],
   "source": [
    "input_data.show(3)"
   ]
  },
  {
   "cell_type": "code",
   "execution_count": 65,
   "metadata": {},
   "outputs": [],
   "source": [
    "# scale our data\n",
    "\n",
    "scaler = StandardScaler(withMean=True, withStd=True, inputCol='features', outputCol='scaled_features')\n",
    "\n",
    "scaler_fit = scaler.fit(input_data)\n",
    "input_scaled = scaler_fit.transform(input_data)"
   ]
  },
  {
   "cell_type": "code",
   "execution_count": 66,
   "metadata": {},
   "outputs": [],
   "source": [
    "# labelling our label and features\n",
    "model_data = input_scaled.select(input_scaled.churn.alias('label'), input_scaled.scaled_features.alias('features'))"
   ]
  },
  {
   "cell_type": "code",
   "execution_count": 68,
   "metadata": {},
   "outputs": [],
   "source": [
    "train, test = model_data.randomSplit([0.90, 0.10], seed=345)"
   ]
  },
  {
   "cell_type": "markdown",
   "metadata": {},
   "source": [
    "Now that we've prepared our data to be fed into the model, let's define some functions that will streamline the modelling process when creating multiple models:"
   ]
  },
  {
   "cell_type": "code",
   "execution_count": 69,
   "metadata": {},
   "outputs": [],
   "source": [
    "# prints how long a model takes to train/fit\n",
    "\n",
    "def format_duration (t_diff):\n",
    "    \"\"\"\n",
    "    Takes a time delta and converts it into an hour/minute/second format\n",
    "    \n",
    "    input:\n",
    "    t_diff - A time delta to be converted.\n",
    "    \n",
    "    return:\n",
    "    A formatted string that displays the time delta in an hour/minute/second format\n",
    "    \"\"\"\n",
    "    \n",
    "    t_seconds = t_diff.seconds\n",
    "    duration = {}\n",
    "    duration['h'], remainder = divmod(t_seconds, 3600)\n",
    "    duration['m'], duration['s'] = divmod(remainder, 60)\n",
    "    stamp = ''\n",
    "    \n",
    "    if duration['h']>0:\n",
    "        stamp += f\"{duration['h']} hour(s), \" \n",
    "    if duration['m']>0:\n",
    "        stamp += f\"{duration['m']} minute(s) and \"\n",
    "        \n",
    "    frac = int(t_diff.microseconds/10000)/100\n",
    "    stamp += f\"{duration['s'] + frac} second(s)\"\n",
    "    return stamp"
   ]
  },
  {
   "cell_type": "code",
   "execution_count": 70,
   "metadata": {},
   "outputs": [],
   "source": [
    "# function to fit model based on what type of model type and param grid we provide\n",
    "def fit_model(data, model_type, param_grid, save_as, num_folds=5, random_seed=345):\n",
    "    \"\"\"\n",
    "    This function trains a model based on what model object is input. The hyperparameters can be\n",
    "    tuned by inputting a param grid. After training the model, the model object is saved as\n",
    "    whatever name/format is specified in the input.\n",
    "    \n",
    "    inputs:\n",
    "    data -Data used to train the model.\n",
    "    model_type - An instantiated model class that tells the function what model to train.\n",
    "    param grid - A set of hyper-parameters used to tune the model training.\n",
    "    save_as - String that contains what name and format to save the model object as\n",
    "    num_folds - Number of folds used in cross-validation. Default 5\n",
    "    random_seed - Random seed that sets the random state to be used while training the model.\n",
    "                Using the same seed allows for others to reproduce the results.\n",
    "    \n",
    "    return:\n",
    "    Returns a fitted model object that can be assessed on test data.\n",
    "    \"\"\"\n",
    "    \n",
    "    model_eval = CrossValidator(estimator=model_type, \n",
    "                                estimatorParamMaps=param_grid,\n",
    "                                evaluator=MulticlassClassificationEvaluator(),\n",
    "                                numFolds=num_folds,\n",
    "                                seed=random_seed)\n",
    "    \n",
    "    time_start = pd.tslib.Timestamp.now()\n",
    "    print(\"Currently fitting model...\", end=\" \")\n",
    "    fitted_model = model_eval.fit(data)\n",
    "    time_diff = pd.tslib.Timestamp.now() - time_start\n",
    "    print(\"Done. Duration was: {}\".format(format_duration(time_diff)))\n",
    "    print(\"Saving model...\")\n",
    "    \n",
    "    try:\n",
    "        fitted_model.save(save_as)\n",
    "    except:\n",
    "        fitted_model.write().overwrite().save(save_as)\n",
    "        print ('*Overwritten* ', end='')\n",
    "        \n",
    "    print(\"Saving complete\")\n",
    "    return fitted_model"
   ]
  },
  {
   "cell_type": "code",
   "execution_count": 71,
   "metadata": {},
   "outputs": [],
   "source": [
    "# The outer function will format the results of the inner function\n",
    "# The inner function will generate model metrics\n",
    "def format_metrics(selected_model, test_data):\n",
    "    \"\"\"\n",
    "    Takes the output of the nested \"model_metrics\" function and formats the metrics\n",
    "    into a readable format\n",
    "    \n",
    "    inputs:\n",
    "    selected_model - Trained model object that will be evaluated on test data\n",
    "    test_data - Data that was split from the original dataset to evaluate the model\n",
    "    \n",
    "    return:\n",
    "    Returns an indexed pandas DataFrame object that shows the evaluation metrics of the inpit model\n",
    "    \"\"\"\n",
    "\n",
    "    def model_metrics(selected_model, model_type = 'train'):\n",
    "        \"\"\"\n",
    "        Calculates the F1 score, Precision, Recall, and True/False Positive rates for the input model.\n",
    "        Can evaluate both the training metrics and test metrics\n",
    "        \n",
    "        inputs:\n",
    "        selected_model - Model object to be assessed\n",
    "        model_type - keyword that tells the function to either calculate the train or test metrics. Default value 'train'\n",
    "        \n",
    "        return:\n",
    "        Returns a numeric value for model accuracy and a dataframe containing Precision/Recall/F1/TP/FP metrics \n",
    "        \"\"\"\n",
    "        \n",
    "        if model_type == 'train':\n",
    "            metrics = selected_model.bestModel.summary\n",
    "            \n",
    "        else:\n",
    "            metrics = selected_model\n",
    "            \n",
    "        acc = metrics.accuracy\n",
    "        general = np.array((metrics.weightedFMeasure(),\n",
    "                           metrics.weightedPrecision,\n",
    "                           metrics.weightedRecall,\n",
    "                           metrics.weightedTruePositiveRate,\n",
    "                           metrics.weightedFalsePositiveRate))\n",
    "        general = general.reshape(1, general.shape[0])\n",
    "        labels = ['General'] + [f'Churn={x}' for x in metrics.labels]\n",
    "        labelled = np.array((metrics.fMeasureByLabel(),\n",
    "                            metrics.precisionByLabel,\n",
    "                            metrics.recallByLabel,\n",
    "                            metrics.truePositiveRateByLabel,\n",
    "                            metrics.falsePositiveRateByLabel))\n",
    "        concat_results = np.concatenate((general.T, labelled), axis=1)\n",
    "        metrics_names = ['F-Measure', 'Precision', 'Recall', 'True_Pos_Rate', 'False_Pos_Rate']\n",
    "        df_res = pd.DataFrame(concat_results, columns=labels, index=metrics_names)\n",
    "        return acc, df_res\n",
    "\n",
    "    acc_train, train_res = model_metrics(selected_model)\n",
    "    model_test = selected_model.bestModel.evaluate(test_data)\n",
    "    acc_test, test_res = model_metrics(model_test, model_type='test')\n",
    "    \n",
    "    cleaned_metrics = pd.concat([train_res, test_res], axis=1, keys=[\n",
    "                    f'Training (Accuracy = {acc_train*100:4.2f}%)',\n",
    "                    f'Testing (Accuracy = {acc_test*100:4.2f}%)'])\n",
    "    \n",
    "    return cleaned_metrics"
   ]
  },
  {
   "cell_type": "code",
   "execution_count": 72,
   "metadata": {},
   "outputs": [],
   "source": [
    "# This function will plot the contribution of all the features in the model\n",
    "def plot_feature_contributions(fitted_model, x_labels, scale_to=\"full_range\"):\n",
    "    \"\"\"\n",
    "    Plots a bar chart that contains bars for each individual feature of a model.\n",
    "    Shows the magnitudes and directions for each feature's calculated contribution to the model\n",
    "    \n",
    "    inputs:\n",
    "    fitted_model - The model object to retrieve the coefficients from\n",
    "    x_labels - Labels used to describe the feature bars on the graph.\n",
    "    scale_to - Input that tells the function how to scale the coefficient values before plotting. \n",
    "               Default is \"full_range\"\n",
    "    \n",
    "    return:\n",
    "    No explicit value is return. The function plots a bar chart.\n",
    "    \"\"\"\n",
    "    \n",
    "    coeff_matrix = fitted_model.bestModel.coefficientMatrix\n",
    "    matrix_vals = coeff_matrix.values\n",
    "    \n",
    "    positive_vals = np.array([x if x>=0 else 0 for x in matrix_vals])\n",
    "    negative_vals = np.array([x if x<=0 else 0 for x in matrix_vals])\n",
    "    \n",
    "    if scale_to == \"full_range\":\n",
    "        r = positive_vals.sum()+ abs(negative_vals).sum()\n",
    "    elif scale_to == \"maximum_range\":\n",
    "        r = positive_vals.max()+ abs(negative_vals).max()\n",
    "    else:\n",
    "        r = 1\n",
    "        \n",
    "    positive_vals /= r\n",
    "    negative_vals /= r\n",
    "    positive_vals *= 100\n",
    "    negative_vals *= 100\n",
    "    fig, ax = plt.subplots(figsize=(16, 9))\n",
    "    ax.bar(x_labels, positive_vals,color='r')\n",
    "    ax.bar(x_labels, negative_vals, color='g')\n",
    "    ax.set_xlabel('Features')\n",
    "    ax.set_ylabel('% Likelihood to Churn)')\n",
    "    ax.set_title('Feature Contribution to churn decission')\n",
    "    ax.set_xticklabels(labels = modelling_df.columns[2:], rotation='vertical');"
   ]
  },
  {
   "cell_type": "code",
   "execution_count": 73,
   "metadata": {},
   "outputs": [],
   "source": [
    "def classifier_metrics(trained_model, train_data, test_data):\n",
    "    \"\"\"\n",
    "    Takes the results of the nested \"specific_metrics\" function and \n",
    "    converts them into a readable format\n",
    "    \n",
    "    inputs:\n",
    "    trained_model - Trained model object that will produce performance metrics.\n",
    "    train_data - Training data used to train model. Used to obtain training metrics.\n",
    "    test_data - Test data used to evaluate the model. Used to obtain testing/evaluation metrics.\n",
    "    \n",
    "    return:\n",
    "    Returns a pandas DataFrame object that contains the evaluation metrics for the input model.\n",
    "    \"\"\"\n",
    "    \n",
    "    def specific_metrics(trained_model, data):\n",
    "        \"\"\"\n",
    "        Takes a trained model object and train/test data and produces the following metrics:\n",
    "            - accuracy\n",
    "            - precision\n",
    "            - recall\n",
    "            - f1 score\n",
    "            \n",
    "        inputs:\n",
    "        trained_model - Train model object that is used to generate metrics\n",
    "        data - Data set used in assessing metrics. Can either be the training data or test data. \n",
    "               Both sets produce different metrics.\n",
    "               \n",
    "        return:\n",
    "        Returns values for accuracy, precision, recall, and f1 score.\n",
    "        \"\"\"\n",
    "        \n",
    "        res2 = trained_model.transform(data).select('label', 'prediction')\n",
    "        true_pos = res2.filter((res2.prediction==1) & (res2.label == res2.prediction) ).count()\n",
    "        true_neg = res2.filter((res2.prediction==0) & (res2.label == res2.prediction) ).count()\n",
    "        false_pos = res2.filter((res2.prediction==1) & (res2.label != res2.prediction) ).count()\n",
    "        false_neg = res2.filter((res2.prediction==0) & (res2.label != res2.prediction) ).count()\n",
    "        accuracy = res2.filter(res2.label == res2.prediction).count()/res2.count()\n",
    "        precision = true_pos /(true_pos + false_pos)\n",
    "        recall = true_pos/(true_pos + false_neg)\n",
    "        f1 = (2 * precision * recall)/(precision + recall)\n",
    "        \n",
    "        return accuracy, precision, recall, f1\n",
    "    \n",
    "    train_metrics = specific_metrics(trained_model, train_data)\n",
    "    test_metrics = specific_metrics(trained_model, test_data)\n",
    "    label = ['Train', 'Test']\n",
    "    metric_labels = ['Accuracy', 'Precision', 'Recall', 'F1_Score']\n",
    "    metric_data = np.array((train_metrics, test_metrics))\n",
    "    \n",
    "    metric_df = pd.DataFrame(data=metric_data.T, columns=label, index=metric_labels)\n",
    "    return metric_df"
   ]
  },
  {
   "cell_type": "code",
   "execution_count": 74,
   "metadata": {},
   "outputs": [],
   "source": [
    "def feature_importance(fitted_model, x_labels, threshold=0.1):\n",
    "    \"\"\"\n",
    "    \n",
    "    inputs:\n",
    "    fitted_model - A trained model object that is used to \n",
    "    x_labels - Labels used to describe the individual feature slices.\n",
    "    threshold - Numeric threshold used to evaluate if a feature deserves it's own slice in\n",
    "                the pie chart or if it is congregated with the other \"minor\" features.\n",
    "    \n",
    "    return:\n",
    "    Does not return an explicit value. The function plots a pie chart.\n",
    "    \"\"\"\n",
    "    \n",
    "    imp = list(fitted_model.bestModel.featureImportances.toArray())\n",
    "    thresh_val = threshold/100\n",
    "    \n",
    "    active = [x for x in imp if x >= thresh_val]\n",
    "    neglected = [x for x in imp if x < thresh_val]\n",
    "    neglected_non_zero = [x for x in neglected if x > 0]\n",
    "    \n",
    "    active_index = [imp.index(x) for x in active]\n",
    "    active_label = [x_labels[x] for x in active_index]\n",
    "    \n",
    "    minor_vals = sum(neglected)\n",
    "    \n",
    "    if minor_vals > 0:\n",
    "        active.append(minor_vals)\n",
    "        active_label.append(f'MINOR, ({len(neglected_non_zero)}feats. each<{threshold}%)')\n",
    "        \n",
    "    active_label =[x for _, x in sorted(zip(active, active_label))]\n",
    "    active = sorted(active)\n",
    "    \n",
    "    fig, ax = plt.subplots(figsize=(16, 9))\n",
    "    ax.pie(active[::-1], labels=active_label[::-1] , \n",
    "           autopct='%1.1f%%', shadow=True, \n",
    "           startangle=90 )\n",
    "    ax.set_title('Feature Importance for Churn Decision')\n",
    "    ax.axis('equal');\n",
    "    "
   ]
  },
  {
   "cell_type": "markdown",
   "metadata": {},
   "source": [
    "Now that we have set up our essential functions, we can get around to modelling! For this project, we'll use two models: Logistic Regression and Random Forest:"
   ]
  },
  {
   "cell_type": "markdown",
   "metadata": {},
   "source": [
    "### 1. Logistic Regression"
   ]
  },
  {
   "cell_type": "markdown",
   "metadata": {},
   "source": [
    "The first model we will be working with is the Logistic Regression. My reason for choosing it is because it is a straightforward one to implement, and its simplicity and interpretability are useful for being able to explain the conclusions of the model. When we see a feature suggest a magnitude of change, we know that the larger the magnitude, the more likely a change in that variable will affect the decision of whether or not to churn."
   ]
  },
  {
   "cell_type": "markdown",
   "metadata": {},
   "source": [
    "In our Logistic Regression model, we will be adding a few parameters to our param_grid:\n",
    "1. regParam - This is our regularization parameter (lambda). This will force our feature coefficients (as well as their mean) to be closer to 0, meaning that a larger coefficient will strongly imply a higher magnitude. We will be experimenting with a range of lambda values between 0.01 and 0.1.\n",
    "2. elasticNetParam - This is another regularization parameter(alpha) This parameter punishes larger coefficient values. We will use a range between 0.0 and 0.5\n",
    "3. aggregationDepth - Depth of Aggregation"
   ]
  },
  {
   "cell_type": "code",
   "execution_count": 77,
   "metadata": {},
   "outputs": [
    {
     "name": "stdout",
     "output_type": "stream",
     "text": [
      "Currently fitting model... Done. Duration was: 3 minute(s) and 18.14 second(s)\n",
      "Saving model...\n",
      "*Overwritten* Saving complete\n"
     ]
    },
    {
     "data": {
      "text/html": [
       "<div>\n",
       "<style scoped>\n",
       "    .dataframe tbody tr th:only-of-type {\n",
       "        vertical-align: middle;\n",
       "    }\n",
       "\n",
       "    .dataframe tbody tr th {\n",
       "        vertical-align: top;\n",
       "    }\n",
       "\n",
       "    .dataframe thead tr th {\n",
       "        text-align: left;\n",
       "    }\n",
       "</style>\n",
       "<table border=\"1\" class=\"dataframe\">\n",
       "  <thead>\n",
       "    <tr>\n",
       "      <th></th>\n",
       "      <th colspan=\"3\" halign=\"left\">Training (Accuracy = 82.91%)</th>\n",
       "      <th colspan=\"3\" halign=\"left\">Testing (Accuracy = 76.92%)</th>\n",
       "    </tr>\n",
       "    <tr>\n",
       "      <th></th>\n",
       "      <th>General</th>\n",
       "      <th>Churn=0.0</th>\n",
       "      <th>Churn=1.0</th>\n",
       "      <th>General</th>\n",
       "      <th>Churn=0.0</th>\n",
       "      <th>Churn=1.0</th>\n",
       "    </tr>\n",
       "  </thead>\n",
       "  <tbody>\n",
       "    <tr>\n",
       "      <th>F-Measure</th>\n",
       "      <td>0.808027</td>\n",
       "      <td>0.896341</td>\n",
       "      <td>0.514286</td>\n",
       "      <td>0.722028</td>\n",
       "      <td>0.863636</td>\n",
       "      <td>0.250000</td>\n",
       "    </tr>\n",
       "    <tr>\n",
       "      <th>Precision</th>\n",
       "      <td>0.819196</td>\n",
       "      <td>0.840000</td>\n",
       "      <td>0.750000</td>\n",
       "      <td>0.724359</td>\n",
       "      <td>0.791667</td>\n",
       "      <td>0.500000</td>\n",
       "    </tr>\n",
       "    <tr>\n",
       "      <th>Recall</th>\n",
       "      <td>0.829146</td>\n",
       "      <td>0.960784</td>\n",
       "      <td>0.391304</td>\n",
       "      <td>0.769231</td>\n",
       "      <td>0.950000</td>\n",
       "      <td>0.166667</td>\n",
       "    </tr>\n",
       "    <tr>\n",
       "      <th>True_Pos_Rate</th>\n",
       "      <td>0.829146</td>\n",
       "      <td>0.960784</td>\n",
       "      <td>0.391304</td>\n",
       "      <td>0.769231</td>\n",
       "      <td>0.950000</td>\n",
       "      <td>0.166667</td>\n",
       "    </tr>\n",
       "    <tr>\n",
       "      <th>False_Pos_Rate</th>\n",
       "      <td>0.477057</td>\n",
       "      <td>0.608696</td>\n",
       "      <td>0.039216</td>\n",
       "      <td>0.652564</td>\n",
       "      <td>0.833333</td>\n",
       "      <td>0.050000</td>\n",
       "    </tr>\n",
       "  </tbody>\n",
       "</table>\n",
       "</div>"
      ],
      "text/plain": [
       "               Training (Accuracy = 82.91%)                      \\\n",
       "                                    General Churn=0.0 Churn=1.0   \n",
       "F-Measure                          0.808027  0.896341  0.514286   \n",
       "Precision                          0.819196  0.840000  0.750000   \n",
       "Recall                             0.829146  0.960784  0.391304   \n",
       "True_Pos_Rate                      0.829146  0.960784  0.391304   \n",
       "False_Pos_Rate                     0.477057  0.608696  0.039216   \n",
       "\n",
       "               Testing (Accuracy = 76.92%)                      \n",
       "                                   General Churn=0.0 Churn=1.0  \n",
       "F-Measure                         0.722028  0.863636  0.250000  \n",
       "Precision                         0.724359  0.791667  0.500000  \n",
       "Recall                            0.769231  0.950000  0.166667  \n",
       "True_Pos_Rate                     0.769231  0.950000  0.166667  \n",
       "False_Pos_Rate                    0.652564  0.833333  0.050000  "
      ]
     },
     "metadata": {},
     "output_type": "display_data"
    },
    {
     "data": {
      "image/png": "[encoded data removed]",
      "text/plain": [
       "<matplotlib.figure.Figure at 0x7f4cba0dd0b8>"
      ]
     },
     "metadata": {
      "needs_background": "light"
     },
     "output_type": "display_data"
    }
   ],
   "source": [
    "# Initialize the variables that we'll feed into our modelling functions\n",
    "\n",
    "model = LogisticRegression()\n",
    "param_grid = ParamGridBuilder() \\\n",
    "    .addGrid(model.regParam, [0.01, 0.1]) \\\n",
    "    .addGrid(model.elasticNetParam, [0.0, 0.5]) \\\n",
    "    .addGrid(model.aggregationDepth, [2, 5]).build()\n",
    "\n",
    "m = fit_model(train, model, param_grid, 'LogisticRegression.model')\n",
    "\n",
    "display(format_metrics(m, test))\n",
    "\n",
    "plot_feature_contributions(m, x_labels=feat_lab)"
   ]
  },
  {
   "cell_type": "markdown",
   "metadata": {},
   "source": [
    "At first glance, we can see that the trainign accuracy is 82% and the test accuracy is jsut shy of 77%. Looking a bit further into the metrics, we see that despite a betetr performance in terms of Precision and Recall for the training, the test set seems to have performed a lot worse on those metrics for the case of classifying Churn = 1. This means that our model is far better at predicting when a user won't churn instead of predicting when a user will actually churn. This doesn't really work for our problem.\n",
    "\n",
    "Besides that though, we can see what factors play a role in the former decision from the feature importance graph above. It looks like there is one obvious thing that points out to us: If a user is on the \"Submit Upgrade\" page, then it's pretty unlikely that the user is going to churn."
   ]
  },
  {
   "cell_type": "markdown",
   "metadata": {},
   "source": [
    "### 2. Random Forest"
   ]
  },
  {
   "cell_type": "markdown",
   "metadata": {},
   "source": [
    "The second model we'll choose is the Random Forest. This one is a fairly powerful classifier that tries to separate the values into their respective categories by splitting along certain criteria until the remaining subgroups are \"pure\" (meaning they contain one cateogry's values). The cool thing about Random forests is that they still have a decent level of interpretability desptie not being as interpretable as a Lienar Regression or Logistic Regression."
   ]
  },
  {
   "cell_type": "markdown",
   "metadata": {},
   "source": [
    "For our Random Forest's param_grid, we'll be tunign a few more parameters:\n",
    "1. maxDepth - This determines how many levels of splits each decision tree goes through before stopping.\n",
    "2. impurity - This determines on what metric the decision tree will use to calculate purity/impurity of a node. We choose gini and entropy because they are two of the most common methods.\n",
    "3. maxBins - This determiens the number of maximum allowed bins for a tree. Bins are created every time a split happens, and since this act is computationally expensive, limiting the bins may help improve training time, especially if more bins doesn't show an increase in performance.\n",
    "4. numTrees - This determines the number of trees in our Forest. We'll be going with anywhere between 10 and 20.\n",
    "5. featureSubsetStrategy - The strategy that the Forest uses to deal with feature subsets. We will be using square root and one third for this example."
   ]
  },
  {
   "cell_type": "code",
   "execution_count": 78,
   "metadata": {},
   "outputs": [
    {
     "name": "stdout",
     "output_type": "stream",
     "text": [
      "Currently fitting model... Done. Duration was: 4 minute(s) and 34.56 second(s)\n",
      "Saving model...\n",
      "*Overwritten* Saving complete\n"
     ]
    }
   ],
   "source": [
    "model = RandomForestClassifier()\n",
    "\n",
    "param_grid = ParamGridBuilder() \\\n",
    "    .addGrid(model.maxDepth, [5, 10]) \\\n",
    "    .addGrid(model.impurity, ['entropy', 'gini']) \\\n",
    "    .addGrid(model.maxBins, [10, 5]) \\\n",
    "    .addGrid(model.numTrees, [20, 10]) \\\n",
    "    .addGrid(model.featureSubsetStrategy, ['sqrt', 'onethird']).build()\n",
    "\n",
    "m = fit_model(train, model, param_grid, 'RandomForestClassifier.model')"
   ]
  },
  {
   "cell_type": "code",
   "execution_count": 79,
   "metadata": {},
   "outputs": [
    {
     "data": {
      "text/html": [
       "<div>\n",
       "<style scoped>\n",
       "    .dataframe tbody tr th:only-of-type {\n",
       "        vertical-align: middle;\n",
       "    }\n",
       "\n",
       "    .dataframe tbody tr th {\n",
       "        vertical-align: top;\n",
       "    }\n",
       "\n",
       "    .dataframe thead th {\n",
       "        text-align: right;\n",
       "    }\n",
       "</style>\n",
       "<table border=\"1\" class=\"dataframe\">\n",
       "  <thead>\n",
       "    <tr style=\"text-align: right;\">\n",
       "      <th></th>\n",
       "      <th>Train</th>\n",
       "      <th>Test</th>\n",
       "    </tr>\n",
       "  </thead>\n",
       "  <tbody>\n",
       "    <tr>\n",
       "      <th>Accuracy</th>\n",
       "      <td>0.894472</td>\n",
       "      <td>0.884615</td>\n",
       "    </tr>\n",
       "    <tr>\n",
       "      <th>Precision</th>\n",
       "      <td>0.931034</td>\n",
       "      <td>1.000000</td>\n",
       "    </tr>\n",
       "    <tr>\n",
       "      <th>Recall</th>\n",
       "      <td>0.586957</td>\n",
       "      <td>0.500000</td>\n",
       "    </tr>\n",
       "    <tr>\n",
       "      <th>F1_Score</th>\n",
       "      <td>0.720000</td>\n",
       "      <td>0.666667</td>\n",
       "    </tr>\n",
       "  </tbody>\n",
       "</table>\n",
       "</div>"
      ],
      "text/plain": [
       "              Train      Test\n",
       "Accuracy   0.894472  0.884615\n",
       "Precision  0.931034  1.000000\n",
       "Recall     0.586957  0.500000\n",
       "F1_Score   0.720000  0.666667"
      ]
     },
     "metadata": {},
     "output_type": "display_data"
    }
   ],
   "source": [
    "display(classifier_metrics(m, train, test))"
   ]
  },
  {
   "cell_type": "code",
   "execution_count": 81,
   "metadata": {},
   "outputs": [
    {
     "data": {
      "image/png": "[encoded data removed]",
      "text/plain": [
       "<matplotlib.figure.Figure at 0x7f4ccd2c6588>"
      ]
     },
     "metadata": {},
     "output_type": "display_data"
    }
   ],
   "source": [
    "feature_importance(m, feat_lab, threshold=2)"
   ]
  },
  {
   "cell_type": "markdown",
   "metadata": {},
   "source": [
    "From the metrics above, we can see that the Random Forest model has performed better than the Logistic Regression model by a decent margin. Not only is the test accuracy much larger, but the model does much better on Precision, Recall, and F1 score too. This model looks fairly promising!\n",
    "\n",
    "Looking above at the feature importance pie chart, we can see that the total number of days subscribed (dayS_total_subscription) as well as thumbs down actions are fairly significant features that the model picked out. These two features by themselves can imply two things:\n",
    "1. The longer a user is subscribed to a service, the more likely they are to churn. This means that there should be incentives in place for long-standing users to continue their subscription.\n",
    "2. The more a user thumbs-down a song, the more dissatisfied that user is with what the service is trying to offer."
   ]
  },
  {
   "cell_type": "markdown",
   "metadata": {},
   "source": [
    "## Model Tuning"
   ]
  },
  {
   "cell_type": "markdown",
   "metadata": {},
   "source": [
    "As well as our Random Forest model was performing, the Logistic Regression model left a lot to be desired. In this portion, we will look at some ways we could improve the performance of the model.\n",
    "\n",
    "First, let's re-adjsut our train/test split so that its 80/20 rather than 90/10"
   ]
  },
  {
   "cell_type": "code",
   "execution_count": 82,
   "metadata": {},
   "outputs": [],
   "source": [
    "train, test = model_data.randomSplit([0.80, 0.20], seed=345)"
   ]
  },
  {
   "cell_type": "markdown",
   "metadata": {},
   "source": [
    "Now we will tune some of the parameters of the model in our param grid. \n",
    "\n",
    "**Note:** Because we're only concerned with improving the metrics of hte model, we will skip plotting the Feature contribution graph (also I doubt it will drastically change the importance of the features form just tweakign some parameters):\n",
    "\n",
    "For starters, we will allow the range for our lambda and alpha valeus to be slightly higher, meaning that there is less penalizing of larger coefficients. We will see if that has any noticable effect on model performance."
   ]
  },
  {
   "cell_type": "code",
   "execution_count": 91,
   "metadata": {},
   "outputs": [
    {
     "name": "stdout",
     "output_type": "stream",
     "text": [
      "Currently fitting model... Done. Duration was: 2 minute(s) and 58.33 second(s)\n",
      "Saving model...\n",
      "*Overwritten* Saving complete\n"
     ]
    },
    {
     "data": {
      "text/html": [
       "<div>\n",
       "<style scoped>\n",
       "    .dataframe tbody tr th:only-of-type {\n",
       "        vertical-align: middle;\n",
       "    }\n",
       "\n",
       "    .dataframe tbody tr th {\n",
       "        vertical-align: top;\n",
       "    }\n",
       "\n",
       "    .dataframe thead tr th {\n",
       "        text-align: left;\n",
       "    }\n",
       "</style>\n",
       "<table border=\"1\" class=\"dataframe\">\n",
       "  <thead>\n",
       "    <tr>\n",
       "      <th></th>\n",
       "      <th colspan=\"3\" halign=\"left\">Training (Accuracy = 84.00%)</th>\n",
       "      <th colspan=\"3\" halign=\"left\">Testing (Accuracy = 80.00%)</th>\n",
       "    </tr>\n",
       "    <tr>\n",
       "      <th></th>\n",
       "      <th>General</th>\n",
       "      <th>Churn=0.0</th>\n",
       "      <th>Churn=1.0</th>\n",
       "      <th>General</th>\n",
       "      <th>Churn=0.0</th>\n",
       "      <th>Churn=1.0</th>\n",
       "    </tr>\n",
       "  </thead>\n",
       "  <tbody>\n",
       "    <tr>\n",
       "      <th>F-Measure</th>\n",
       "      <td>0.809932</td>\n",
       "      <td>0.904762</td>\n",
       "      <td>0.500000</td>\n",
       "      <td>0.752159</td>\n",
       "      <td>0.883721</td>\n",
       "      <td>0.285714</td>\n",
       "    </tr>\n",
       "    <tr>\n",
       "      <th>Precision</th>\n",
       "      <td>0.855167</td>\n",
       "      <td>0.831250</td>\n",
       "      <td>0.933333</td>\n",
       "      <td>0.777305</td>\n",
       "      <td>0.808511</td>\n",
       "      <td>0.666667</td>\n",
       "    </tr>\n",
       "    <tr>\n",
       "      <th>Recall</th>\n",
       "      <td>0.840000</td>\n",
       "      <td>0.992537</td>\n",
       "      <td>0.341463</td>\n",
       "      <td>0.800000</td>\n",
       "      <td>0.974359</td>\n",
       "      <td>0.181818</td>\n",
       "    </tr>\n",
       "    <tr>\n",
       "      <th>True_Pos_Rate</th>\n",
       "      <td>0.840000</td>\n",
       "      <td>0.992537</td>\n",
       "      <td>0.341463</td>\n",
       "      <td>0.800000</td>\n",
       "      <td>0.974359</td>\n",
       "      <td>0.181818</td>\n",
       "    </tr>\n",
       "    <tr>\n",
       "      <th>False_Pos_Rate</th>\n",
       "      <td>0.505999</td>\n",
       "      <td>0.658537</td>\n",
       "      <td>0.007463</td>\n",
       "      <td>0.643823</td>\n",
       "      <td>0.818182</td>\n",
       "      <td>0.025641</td>\n",
       "    </tr>\n",
       "  </tbody>\n",
       "</table>\n",
       "</div>"
      ],
      "text/plain": [
       "               Training (Accuracy = 84.00%)                      \\\n",
       "                                    General Churn=0.0 Churn=1.0   \n",
       "F-Measure                          0.809932  0.904762  0.500000   \n",
       "Precision                          0.855167  0.831250  0.933333   \n",
       "Recall                             0.840000  0.992537  0.341463   \n",
       "True_Pos_Rate                      0.840000  0.992537  0.341463   \n",
       "False_Pos_Rate                     0.505999  0.658537  0.007463   \n",
       "\n",
       "               Testing (Accuracy = 80.00%)                      \n",
       "                                   General Churn=0.0 Churn=1.0  \n",
       "F-Measure                         0.752159  0.883721  0.285714  \n",
       "Precision                         0.777305  0.808511  0.666667  \n",
       "Recall                            0.800000  0.974359  0.181818  \n",
       "True_Pos_Rate                     0.800000  0.974359  0.181818  \n",
       "False_Pos_Rate                    0.643823  0.818182  0.025641  "
      ]
     },
     "metadata": {},
     "output_type": "display_data"
    }
   ],
   "source": [
    "model = LogisticRegression()\n",
    "\n",
    "param_grid = ParamGridBuilder() \\\n",
    "    .addGrid(model.regParam, [0.02, 0.2]) \\\n",
    "    .addGrid(model.elasticNetParam, [0.1, 0.6]) \\\n",
    "    .addGrid(model.aggregationDepth, [2, 5]).build()\n",
    "\n",
    "m = fit_model(train, model, param_grid, 'LogisticRegression.model')\n",
    "\n",
    "display(format_metrics(m, test))"
   ]
  },
  {
   "cell_type": "markdown",
   "metadata": {},
   "source": [
    "Looks like easing the coefficient restriction did have some positive effect on model performance! The training accuracy went from 82% to 84%, and the testing accuracy went from 77 to 80%. Not only that, but the Precision/Recall/F1 score are all slightly higher too for the testing data. Overall it looks like we have seen improvements across the board!\n",
    "\n",
    "We could take this process further test the idea of easing the regularization parameters, but in respects to making this notebook not drag on too long, I will leave it here."
   ]
  },
  {
   "cell_type": "markdown",
   "metadata": {},
   "source": [
    "# Reflections/Final Thoughts"
   ]
  },
  {
   "cell_type": "markdown",
   "metadata": {},
   "source": [
    "Overall, the final iteration of both of our models showed promsie in being able to classify/predict whether a user is about to churn from the Sparkify service. There are, however, more methods we could have called upon to improve our model:\n",
    "1. Working with the full data set (all 12 GB). We had very few data points to work with for our model, so having significantly more would give us a better foundation to say whether our model is truly performing or not.\n",
    "2. Further tuning of parameters(e.g. either tuning the regularization params or adding new parameters to the param_grid)\n",
    "3. Going back and expanding on the Feature Engineering portion of the project. There was potential to try things like multiplying features together to create a new feature (though doing so reduces the interpretability of the feature should it be significant in the model)."
   ]
  },
  {
   "cell_type": "markdown",
   "metadata": {},
   "source": [
    "# Final Steps\n",
    "Clean up your code, adding comments and renaming variables to make the code easier to read and maintain. Refer to the Spark Project Overview page and Data Scientist Capstone Project Rubric to make sure you are including all components of the capstone project and meet all expectations. Remember, this includes thorough documentation in a README file in a Github repository, as well as a web app or blog post."
   ]
  }
 ],
 "metadata": {
  "kernelspec": {
   "display_name": "Python 3",
   "language": "python",
   "name": "python3"
  },
  "language_info": {
   "codemirror_mode": {
    "name": "ipython",
    "version": 3
   },
   "file_extension": ".py",
   "mimetype": "text/x-python",
   "name": "python",
   "nbconvert_exporter": "python",
   "pygments_lexer": "ipython3",
   "version": "3.6.3"
  }
 },
 "nbformat": 4,
 "nbformat_minor": 2
}
